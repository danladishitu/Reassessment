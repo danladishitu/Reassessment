{
 "cells": [
  {
   "cell_type": "markdown",
   "id": "unsigned-operator",
   "metadata": {},
   "source": [
    "# An Online Computer Store"
   ]
  },
  {
   "cell_type": "markdown",
   "id": "settled-journey",
   "metadata": {},
   "source": [
    "### Comparative Study\n",
    "Thanks to the convincing arguments in your pilot-study proposal, the company decides to collect\n",
    "the data that you suggested and to hire you to perform the proposed study. They provide you with\n",
    "a training set of historical data made of 1000 examples with 8 features for each email sent in the past\n",
    "and one label representing whether the receiver bought a product using the corresponding unique\n",
    "promotion code. These data are organized in the file CE802_Ass_Resit.arff available from the\n",
    "CE802 moodle page. In this part of the assignment, you are asked to investigate the performance\n",
    "of a number of machine learning procedures on this dataset using Python/scikit-learn.\n",
    "\n",
    "You need to perform a comparative study of a number of machine learning procedures:\n",
    "- a Naive Bayes classifier;\n",
    "- decision trees;\n",
    "- at least two more ML technique to predict whether an email led to a sale.\n",
    "\n",
    "After conducting this study, you are asked to write a report containing an account of your\n",
    "investigation. There should be a brief summary of the experiments performed followed by one or\n",
    "more tables summarizing the performance of the different solutions. In particular you should at\n",
    "least report the accuracy and the Kappa statistics for each prediction algorithm. Any numerical\n",
    "data that you include should be in a suitable graphical or tabular form. You should not include any\n",
    "numerical data that is not relevant to your discussion of the relative performances (do not trivially\n",
    "copy/paste scikit-learn's output). Your report should have an appendix section with the code that\n",
    "you implemented (for example in the form of a Jupyter notebook)."
   ]
  },
  {
   "cell_type": "markdown",
   "id": "protective-permit",
   "metadata": {},
   "source": [
    "### Import all the libraries to build the machine learning pipeline"
   ]
  },
  {
   "cell_type": "code",
   "execution_count": 616,
   "id": "featured-portland",
   "metadata": {},
   "outputs": [],
   "source": [
    "import pandas as pd, numpy as np, seaborn as sns, matplotlib.pyplot as plt\n",
    "import imblearn\n",
    "import itertools\n",
    "from matplotlib import pyplot\n",
    "from imblearn.over_sampling import SMOTE\n",
    "from imblearn.under_sampling import EditedNearestNeighbours \n",
    "from collections import Counter\n",
    "from sklearn.metrics import roc_curve\n",
    "from sklearn.metrics import roc_auc_score\n",
    "from sklearn.model_selection import RepeatedStratifiedKFold\n",
    "from sklearn.tree import DecisionTreeClassifier\n",
    "from sklearn.svm import SVC\n",
    "from sklearn.ensemble import RandomForestClassifier\n",
    "from sklearn.naive_bayes import GaussianNB\n",
    "from sklearn.preprocessing import LabelEncoder\n",
    "from sklearn.preprocessing import StandardScaler\n",
    "from sklearn.metrics import classification_report, confusion_matrix\n",
    "from sklearn.model_selection import train_test_split\n",
    "from sklearn.model_selection import GridSearchCV, cross_val_score\n",
    "from sklearn.pipeline import Pipeline"
   ]
  },
  {
   "cell_type": "markdown",
   "id": "serial-robinson",
   "metadata": {},
   "source": [
    "### Import the different evaluation mertics"
   ]
  },
  {
   "cell_type": "code",
   "execution_count": 617,
   "id": "varying-ceiling",
   "metadata": {},
   "outputs": [],
   "source": [
    "from sklearn.metrics import accuracy_score\n",
    "from sklearn.metrics import precision_score\n",
    "from sklearn.metrics import recall_score\n",
    "from sklearn.metrics import f1_score\n",
    "from sklearn.metrics import jaccard_score"
   ]
  },
  {
   "cell_type": "markdown",
   "id": "confused-morning",
   "metadata": {},
   "source": [
    "# Decision Tree classifier\n",
    "We will build a model using four different classification algorithms which are **decision tree**, **support vector machine**, **random forest** and **naive bayes**. This is the very first machine learning technique we will use to approach the problem and compare the various performance metrics."
   ]
  },
  {
   "cell_type": "markdown",
   "id": "amateur-swing",
   "metadata": {},
   "source": [
    "### Load the historical dataset of the online computer store."
   ]
  },
  {
   "cell_type": "code",
   "execution_count": 618,
   "id": "engaging-charleston",
   "metadata": {},
   "outputs": [
    {
     "data": {
      "text/html": [
       "<div>\n",
       "<style scoped>\n",
       "    .dataframe tbody tr th:only-of-type {\n",
       "        vertical-align: middle;\n",
       "    }\n",
       "\n",
       "    .dataframe tbody tr th {\n",
       "        vertical-align: top;\n",
       "    }\n",
       "\n",
       "    .dataframe thead th {\n",
       "        text-align: right;\n",
       "    }\n",
       "</style>\n",
       "<table border=\"1\" class=\"dataframe\">\n",
       "  <thead>\n",
       "    <tr style=\"text-align: right;\">\n",
       "      <th></th>\n",
       "      <th>F1</th>\n",
       "      <th>F2</th>\n",
       "      <th>F3</th>\n",
       "      <th>F4</th>\n",
       "      <th>F5</th>\n",
       "      <th>F6</th>\n",
       "      <th>F7</th>\n",
       "      <th>F8</th>\n",
       "      <th>C</th>\n",
       "    </tr>\n",
       "  </thead>\n",
       "  <tbody>\n",
       "    <tr>\n",
       "      <th>0</th>\n",
       "      <td>1</td>\n",
       "      <td>0.73</td>\n",
       "      <td>14</td>\n",
       "      <td>2.49</td>\n",
       "      <td>2</td>\n",
       "      <td>0.89</td>\n",
       "      <td>1</td>\n",
       "      <td>0.60</td>\n",
       "      <td>True</td>\n",
       "    </tr>\n",
       "    <tr>\n",
       "      <th>1</th>\n",
       "      <td>3</td>\n",
       "      <td>0.65</td>\n",
       "      <td>15</td>\n",
       "      <td>1.51</td>\n",
       "      <td>9</td>\n",
       "      <td>0.91</td>\n",
       "      <td>1</td>\n",
       "      <td>0.68</td>\n",
       "      <td>True</td>\n",
       "    </tr>\n",
       "    <tr>\n",
       "      <th>2</th>\n",
       "      <td>-10</td>\n",
       "      <td>0.21</td>\n",
       "      <td>39</td>\n",
       "      <td>1.67</td>\n",
       "      <td>5</td>\n",
       "      <td>0.10</td>\n",
       "      <td>1</td>\n",
       "      <td>0.58</td>\n",
       "      <td>True</td>\n",
       "    </tr>\n",
       "    <tr>\n",
       "      <th>3</th>\n",
       "      <td>-12</td>\n",
       "      <td>1.45</td>\n",
       "      <td>20</td>\n",
       "      <td>-1.54</td>\n",
       "      <td>9</td>\n",
       "      <td>0.70</td>\n",
       "      <td>1</td>\n",
       "      <td>0.27</td>\n",
       "      <td>True</td>\n",
       "    </tr>\n",
       "    <tr>\n",
       "      <th>4</th>\n",
       "      <td>13</td>\n",
       "      <td>0.03</td>\n",
       "      <td>41</td>\n",
       "      <td>2.21</td>\n",
       "      <td>9</td>\n",
       "      <td>0.39</td>\n",
       "      <td>1</td>\n",
       "      <td>1.03</td>\n",
       "      <td>False</td>\n",
       "    </tr>\n",
       "    <tr>\n",
       "      <th>5</th>\n",
       "      <td>-16</td>\n",
       "      <td>0.64</td>\n",
       "      <td>10</td>\n",
       "      <td>0.61</td>\n",
       "      <td>7</td>\n",
       "      <td>0.91</td>\n",
       "      <td>1</td>\n",
       "      <td>0.39</td>\n",
       "      <td>False</td>\n",
       "    </tr>\n",
       "    <tr>\n",
       "      <th>6</th>\n",
       "      <td>8</td>\n",
       "      <td>0.37</td>\n",
       "      <td>16</td>\n",
       "      <td>1.23</td>\n",
       "      <td>10</td>\n",
       "      <td>0.44</td>\n",
       "      <td>1</td>\n",
       "      <td>0.12</td>\n",
       "      <td>True</td>\n",
       "    </tr>\n",
       "    <tr>\n",
       "      <th>7</th>\n",
       "      <td>-19</td>\n",
       "      <td>1.53</td>\n",
       "      <td>16</td>\n",
       "      <td>-1.61</td>\n",
       "      <td>2</td>\n",
       "      <td>0.09</td>\n",
       "      <td>1</td>\n",
       "      <td>0.40</td>\n",
       "      <td>False</td>\n",
       "    </tr>\n",
       "    <tr>\n",
       "      <th>8</th>\n",
       "      <td>15</td>\n",
       "      <td>1.81</td>\n",
       "      <td>9</td>\n",
       "      <td>-3.04</td>\n",
       "      <td>3</td>\n",
       "      <td>0.42</td>\n",
       "      <td>1</td>\n",
       "      <td>0.39</td>\n",
       "      <td>False</td>\n",
       "    </tr>\n",
       "    <tr>\n",
       "      <th>9</th>\n",
       "      <td>0</td>\n",
       "      <td>0.41</td>\n",
       "      <td>12</td>\n",
       "      <td>2.12</td>\n",
       "      <td>14</td>\n",
       "      <td>0.92</td>\n",
       "      <td>1</td>\n",
       "      <td>0.04</td>\n",
       "      <td>False</td>\n",
       "    </tr>\n",
       "  </tbody>\n",
       "</table>\n",
       "</div>"
      ],
      "text/plain": [
       "   F1    F2  F3    F4  F5    F6  F7    F8      C\n",
       "0   1  0.73  14  2.49   2  0.89   1  0.60   True\n",
       "1   3  0.65  15  1.51   9  0.91   1  0.68   True\n",
       "2 -10  0.21  39  1.67   5  0.10   1  0.58   True\n",
       "3 -12  1.45  20 -1.54   9  0.70   1  0.27   True\n",
       "4  13  0.03  41  2.21   9  0.39   1  1.03  False\n",
       "5 -16  0.64  10  0.61   7  0.91   1  0.39  False\n",
       "6   8  0.37  16  1.23  10  0.44   1  0.12   True\n",
       "7 -19  1.53  16 -1.61   2  0.09   1  0.40  False\n",
       "8  15  1.81   9 -3.04   3  0.42   1  0.39  False\n",
       "9   0  0.41  12  2.12  14  0.92   1  0.04  False"
      ]
     },
     "execution_count": 618,
     "metadata": {},
     "output_type": "execute_result"
    }
   ],
   "source": [
    "dt=pd.read_csv(\"CE802_ASS_2018_RESIT.csv\")\n",
    "dt.head(10)"
   ]
  },
  {
   "cell_type": "markdown",
   "id": "loose-brush",
   "metadata": {},
   "source": [
    "### Examine the number of rows and columns in the dataset"
   ]
  },
  {
   "cell_type": "code",
   "execution_count": 619,
   "id": "variable-father",
   "metadata": {},
   "outputs": [
    {
     "data": {
      "text/plain": [
       "(1000, 9)"
      ]
     },
     "execution_count": 619,
     "metadata": {},
     "output_type": "execute_result"
    }
   ],
   "source": [
    "dt.shape"
   ]
  },
  {
   "cell_type": "markdown",
   "id": "exempt-television",
   "metadata": {},
   "source": [
    "### Explore the dataset and see if there are any missing values."
   ]
  },
  {
   "cell_type": "code",
   "execution_count": 620,
   "id": "portuguese-antenna",
   "metadata": {},
   "outputs": [
    {
     "data": {
      "text/plain": [
       "F1    0\n",
       "F2    0\n",
       "F3    0\n",
       "F4    0\n",
       "F5    0\n",
       "F6    0\n",
       "F7    0\n",
       "F8    0\n",
       "C     0\n",
       "dtype: int64"
      ]
     },
     "execution_count": 620,
     "metadata": {},
     "output_type": "execute_result"
    }
   ],
   "source": [
    "dt.isnull().sum()"
   ]
  },
  {
   "cell_type": "markdown",
   "id": "female-network",
   "metadata": {},
   "source": [
    "### Split data into attributes and target"
   ]
  },
  {
   "cell_type": "code",
   "execution_count": 621,
   "id": "tropical-reconstruction",
   "metadata": {},
   "outputs": [
    {
     "data": {
      "text/html": [
       "<div>\n",
       "<style scoped>\n",
       "    .dataframe tbody tr th:only-of-type {\n",
       "        vertical-align: middle;\n",
       "    }\n",
       "\n",
       "    .dataframe tbody tr th {\n",
       "        vertical-align: top;\n",
       "    }\n",
       "\n",
       "    .dataframe thead th {\n",
       "        text-align: right;\n",
       "    }\n",
       "</style>\n",
       "<table border=\"1\" class=\"dataframe\">\n",
       "  <thead>\n",
       "    <tr style=\"text-align: right;\">\n",
       "      <th></th>\n",
       "      <th>F1</th>\n",
       "      <th>F2</th>\n",
       "      <th>F3</th>\n",
       "      <th>F4</th>\n",
       "      <th>F5</th>\n",
       "      <th>F6</th>\n",
       "      <th>F7</th>\n",
       "      <th>F8</th>\n",
       "    </tr>\n",
       "  </thead>\n",
       "  <tbody>\n",
       "    <tr>\n",
       "      <th>0</th>\n",
       "      <td>1</td>\n",
       "      <td>0.73</td>\n",
       "      <td>14</td>\n",
       "      <td>2.49</td>\n",
       "      <td>2</td>\n",
       "      <td>0.89</td>\n",
       "      <td>1</td>\n",
       "      <td>0.60</td>\n",
       "    </tr>\n",
       "    <tr>\n",
       "      <th>1</th>\n",
       "      <td>3</td>\n",
       "      <td>0.65</td>\n",
       "      <td>15</td>\n",
       "      <td>1.51</td>\n",
       "      <td>9</td>\n",
       "      <td>0.91</td>\n",
       "      <td>1</td>\n",
       "      <td>0.68</td>\n",
       "    </tr>\n",
       "    <tr>\n",
       "      <th>2</th>\n",
       "      <td>-10</td>\n",
       "      <td>0.21</td>\n",
       "      <td>39</td>\n",
       "      <td>1.67</td>\n",
       "      <td>5</td>\n",
       "      <td>0.10</td>\n",
       "      <td>1</td>\n",
       "      <td>0.58</td>\n",
       "    </tr>\n",
       "    <tr>\n",
       "      <th>3</th>\n",
       "      <td>-12</td>\n",
       "      <td>1.45</td>\n",
       "      <td>20</td>\n",
       "      <td>-1.54</td>\n",
       "      <td>9</td>\n",
       "      <td>0.70</td>\n",
       "      <td>1</td>\n",
       "      <td>0.27</td>\n",
       "    </tr>\n",
       "    <tr>\n",
       "      <th>4</th>\n",
       "      <td>13</td>\n",
       "      <td>0.03</td>\n",
       "      <td>41</td>\n",
       "      <td>2.21</td>\n",
       "      <td>9</td>\n",
       "      <td>0.39</td>\n",
       "      <td>1</td>\n",
       "      <td>1.03</td>\n",
       "    </tr>\n",
       "    <tr>\n",
       "      <th>5</th>\n",
       "      <td>-16</td>\n",
       "      <td>0.64</td>\n",
       "      <td>10</td>\n",
       "      <td>0.61</td>\n",
       "      <td>7</td>\n",
       "      <td>0.91</td>\n",
       "      <td>1</td>\n",
       "      <td>0.39</td>\n",
       "    </tr>\n",
       "    <tr>\n",
       "      <th>6</th>\n",
       "      <td>8</td>\n",
       "      <td>0.37</td>\n",
       "      <td>16</td>\n",
       "      <td>1.23</td>\n",
       "      <td>10</td>\n",
       "      <td>0.44</td>\n",
       "      <td>1</td>\n",
       "      <td>0.12</td>\n",
       "    </tr>\n",
       "    <tr>\n",
       "      <th>7</th>\n",
       "      <td>-19</td>\n",
       "      <td>1.53</td>\n",
       "      <td>16</td>\n",
       "      <td>-1.61</td>\n",
       "      <td>2</td>\n",
       "      <td>0.09</td>\n",
       "      <td>1</td>\n",
       "      <td>0.40</td>\n",
       "    </tr>\n",
       "    <tr>\n",
       "      <th>8</th>\n",
       "      <td>15</td>\n",
       "      <td>1.81</td>\n",
       "      <td>9</td>\n",
       "      <td>-3.04</td>\n",
       "      <td>3</td>\n",
       "      <td>0.42</td>\n",
       "      <td>1</td>\n",
       "      <td>0.39</td>\n",
       "    </tr>\n",
       "    <tr>\n",
       "      <th>9</th>\n",
       "      <td>0</td>\n",
       "      <td>0.41</td>\n",
       "      <td>12</td>\n",
       "      <td>2.12</td>\n",
       "      <td>14</td>\n",
       "      <td>0.92</td>\n",
       "      <td>1</td>\n",
       "      <td>0.04</td>\n",
       "    </tr>\n",
       "  </tbody>\n",
       "</table>\n",
       "</div>"
      ],
      "text/plain": [
       "   F1    F2  F3    F4  F5    F6  F7    F8\n",
       "0   1  0.73  14  2.49   2  0.89   1  0.60\n",
       "1   3  0.65  15  1.51   9  0.91   1  0.68\n",
       "2 -10  0.21  39  1.67   5  0.10   1  0.58\n",
       "3 -12  1.45  20 -1.54   9  0.70   1  0.27\n",
       "4  13  0.03  41  2.21   9  0.39   1  1.03\n",
       "5 -16  0.64  10  0.61   7  0.91   1  0.39\n",
       "6   8  0.37  16  1.23  10  0.44   1  0.12\n",
       "7 -19  1.53  16 -1.61   2  0.09   1  0.40\n",
       "8  15  1.81   9 -3.04   3  0.42   1  0.39\n",
       "9   0  0.41  12  2.12  14  0.92   1  0.04"
      ]
     },
     "execution_count": 621,
     "metadata": {},
     "output_type": "execute_result"
    }
   ],
   "source": [
    "X = dt.drop('C', axis=1)\n",
    "X.head(10)"
   ]
  },
  {
   "cell_type": "markdown",
   "id": "furnished-spelling",
   "metadata": {},
   "source": [
    "### Save the target variable as y"
   ]
  },
  {
   "cell_type": "code",
   "execution_count": 622,
   "id": "vertical-modern",
   "metadata": {},
   "outputs": [
    {
     "data": {
      "text/plain": [
       "0     True\n",
       "1     True\n",
       "2     True\n",
       "3     True\n",
       "4    False\n",
       "5    False\n",
       "6     True\n",
       "7    False\n",
       "8    False\n",
       "9    False\n",
       "Name: C, dtype: bool"
      ]
     },
     "execution_count": 622,
     "metadata": {},
     "output_type": "execute_result"
    }
   ],
   "source": [
    "y = dt['C']\n",
    "y.head(10)"
   ]
  },
  {
   "cell_type": "markdown",
   "id": "american-crest",
   "metadata": {},
   "source": [
    "### Normalize the dataset"
   ]
  },
  {
   "cell_type": "code",
   "execution_count": 623,
   "id": "inner-tower",
   "metadata": {},
   "outputs": [
    {
     "data": {
      "text/plain": [
       "array([[ 0.06, -0.44, -0.8 , ...,  1.35,  0.16,  0.39],\n",
       "       [ 0.24, -0.58, -0.76, ...,  1.42,  0.16,  0.67],\n",
       "       [-0.9 , -1.37,  0.33, ..., -1.34,  0.16,  0.33],\n",
       "       ...,\n",
       "       [-0.9 ,  1.36, -1.26, ...,  0.74,  0.16,  0.43],\n",
       "       [-1.6 ,  0.63,  1.56, ..., -0.8 ,  0.16, -0.44],\n",
       "       [ 1.28, -1.14, -0.39, ...,  1.31,  0.16, -1.58]])"
      ]
     },
     "execution_count": 623,
     "metadata": {},
     "output_type": "execute_result"
    }
   ],
   "source": [
    "scale=StandardScaler()\n",
    "X= scale.fit_transform(X)\n",
    "X"
   ]
  },
  {
   "cell_type": "markdown",
   "id": "informal-message",
   "metadata": {},
   "source": [
    "### Over-sampling and under-sampling on unbalanced data"
   ]
  },
  {
   "cell_type": "code",
   "execution_count": 624,
   "id": "flying-reflection",
   "metadata": {},
   "outputs": [
    {
     "name": "stdout",
     "output_type": "stream",
     "text": [
      "0.7.0\n",
      "Class=0, n=252 (34.054%)\n",
      "Class=1, n=488 (65.946%)\n"
     ]
    },
    {
     "data": {
      "image/png": "[encoded data removed]",
      "text/plain": [
       "<Figure size 432x288 with 1 Axes>"
      ]
     },
     "metadata": {
      "needs_background": "light"
     },
     "output_type": "display_data"
    }
   ],
   "source": [
    "print(imblearn.__version__)\n",
    "\n",
    "oversample = SMOTE()\n",
    "enn = EditedNearestNeighbours()\n",
    "# label encode the target variable\n",
    "\n",
    "y = LabelEncoder().fit_transform(y)\n",
    "\n",
    "X, y = enn.fit_resample(X, y)\n",
    "# summarize distribution\n",
    "counter = Counter(y)\n",
    "for k,v in counter.items():\n",
    "    per = v / len(y) * 100\n",
    "\n",
    "    print('Class=%d, n=%d (%.3f%%)' % (k, v, per))\n",
    "#plot the distribution\n",
    "plt.bar(counter.keys(), counter.values())\n",
    "plt.show()"
   ]
  },
  {
   "cell_type": "markdown",
   "id": "surrounded-shanghai",
   "metadata": {},
   "source": [
    "### Train Test Split divides the dataset into 80 percent for training and 20 percent for testing."
   ]
  },
  {
   "cell_type": "code",
   "execution_count": 625,
   "id": "after-tiffany",
   "metadata": {},
   "outputs": [
    {
     "name": "stdout",
     "output_type": "stream",
     "text": [
      "Train set: (592, 8) (592,)\n",
      "Test set: (148, 8) (148,)\n"
     ]
    }
   ],
   "source": [
    "x_train, x_test, y_train, y_test = train_test_split( X, y, test_size=0.2, random_state=50)\n",
    "print ('Train set:', x_train.shape,  y_train.shape)\n",
    "print ('Test set:', x_test.shape,  y_test.shape)"
   ]
  },
  {
   "cell_type": "code",
   "execution_count": 626,
   "id": "working-state",
   "metadata": {},
   "outputs": [],
   "source": [
    "# generate a no skill prediction (majority class)\n",
    "ns_probs = [0 for _ in range(len(y_test))]"
   ]
  },
  {
   "cell_type": "markdown",
   "id": "written-friend",
   "metadata": {},
   "source": [
    "### To build the model, use the decision tree classifier."
   ]
  },
  {
   "cell_type": "code",
   "execution_count": 627,
   "id": "scientific-crowd",
   "metadata": {},
   "outputs": [
    {
     "data": {
      "text/plain": [
       "DecisionTreeClassifier()"
      ]
     },
     "execution_count": 627,
     "metadata": {},
     "output_type": "execute_result"
    }
   ],
   "source": [
    "dtclassifier = DecisionTreeClassifier()\n",
    "dtclassifier"
   ]
  },
  {
   "cell_type": "markdown",
   "id": "pressing-gather",
   "metadata": {},
   "source": [
    "### Grid search cross validation hyperparameter tuning will be used to improve our model's performance accuracy."
   ]
  },
  {
   "cell_type": "code",
   "execution_count": 628,
   "id": "measured-motel",
   "metadata": {},
   "outputs": [],
   "source": [
    "#pass the parameters for decision tree classifier\n",
    "param_dict={\"criterion\":['gini', 'entropy'],\n",
    "           \"max_depth\":range(1,12),\n",
    "           \"min_samples_split\": range(1,12),\n",
    "           \"min_samples_leaf\": range(1,5)}"
   ]
  },
  {
   "cell_type": "markdown",
   "id": "charming-desire",
   "metadata": {},
   "source": [
    "### This informs us of the best parameter for our model's efficiency."
   ]
  },
  {
   "cell_type": "code",
   "execution_count": 629,
   "id": "excellent-tongue",
   "metadata": {},
   "outputs": [
    {
     "name": "stdout",
     "output_type": "stream",
     "text": [
      "Fitting 10 folds for each of 968 candidates, totalling 9680 fits\n"
     ]
    },
    {
     "name": "stderr",
     "output_type": "stream",
     "text": [
      "C:\\Users\\danla\\anaconda3\\lib\\site-packages\\sklearn\\model_selection\\_search.py:918: UserWarning: One or more of the test scores are non-finite: [ nan 0.75 0.75 0.75 0.75 0.75 0.75 0.75 0.75 0.75 0.75  nan 0.75 0.75\n",
      " 0.75 0.75 0.75 0.75 0.75 0.75 0.75 0.75  nan 0.75 0.75 0.75 0.75 0.75\n",
      " 0.75 0.75 0.75 0.75 0.75  nan 0.75 0.75 0.75 0.75 0.75 0.75 0.75 0.75\n",
      " 0.75 0.75  nan 0.75 0.75 0.75 0.75 0.75 0.75 0.75 0.75 0.75 0.75  nan\n",
      " 0.75 0.75 0.75 0.75 0.75 0.75 0.75 0.75 0.75 0.75  nan 0.75 0.75 0.75\n",
      " 0.75 0.75 0.75 0.75 0.75 0.75 0.75  nan 0.75 0.75 0.75 0.75 0.75 0.75\n",
      " 0.75 0.75 0.75 0.75  nan 0.75 0.75 0.75 0.75 0.75 0.75 0.75 0.75 0.75\n",
      " 0.75  nan 0.75 0.75 0.75 0.75 0.75 0.75 0.75 0.75 0.75 0.75  nan 0.75\n",
      " 0.75 0.75 0.75 0.75 0.75 0.75 0.75 0.75 0.75  nan 0.75 0.75 0.75 0.75\n",
      " 0.75 0.75 0.75 0.75 0.75 0.75  nan 0.72 0.73 0.73 0.73 0.72 0.72 0.72\n",
      " 0.72 0.72 0.72  nan 0.72 0.72 0.72 0.72 0.72 0.72 0.72 0.72 0.72 0.72\n",
      "  nan 0.73 0.72 0.73 0.73 0.73 0.72 0.72 0.72 0.72 0.72  nan 0.72 0.72\n",
      " 0.72 0.72 0.72 0.72 0.72 0.72 0.72 0.72  nan 0.73 0.73 0.73 0.73 0.73\n",
      " 0.73 0.73 0.72 0.73 0.73  nan 0.73 0.73 0.72 0.72 0.73 0.72 0.72 0.72\n",
      " 0.72 0.72  nan 0.73 0.73 0.74 0.74 0.73 0.73 0.73 0.72 0.72 0.72  nan\n",
      " 0.73 0.73 0.73 0.73 0.73 0.72 0.72 0.72 0.72 0.72  nan 0.78 0.78 0.77\n",
      " 0.78 0.79 0.78 0.77 0.77 0.77 0.77  nan 0.77 0.77 0.77 0.78 0.78 0.77\n",
      " 0.76 0.76 0.76 0.77  nan 0.78 0.78 0.78 0.78 0.78 0.78 0.77 0.77 0.77\n",
      " 0.77  nan 0.77 0.77 0.77 0.77 0.77 0.77 0.77 0.77 0.76 0.76  nan 0.8\n",
      " 0.8  0.8  0.8  0.8  0.81 0.8  0.8  0.8  0.79  nan 0.8  0.81 0.8  0.79\n",
      " 0.8  0.79 0.8  0.8  0.79 0.79  nan 0.81 0.81 0.8  0.82 0.81 0.81 0.81\n",
      " 0.8  0.8  0.8   nan 0.8  0.79 0.8  0.8  0.8  0.8  0.8  0.8  0.79 0.79\n",
      "  nan 0.83 0.83 0.83 0.83 0.83 0.84 0.83 0.83 0.82 0.83  nan 0.83 0.83\n",
      " 0.82 0.83 0.83 0.83 0.83 0.82 0.82 0.82  nan 0.84 0.84 0.84 0.84 0.84\n",
      " 0.84 0.85 0.84 0.83 0.83  nan 0.83 0.82 0.83 0.83 0.83 0.83 0.83 0.83\n",
      " 0.82 0.83  nan 0.84 0.83 0.82 0.83 0.83 0.84 0.83 0.83 0.83 0.83  nan\n",
      " 0.81 0.82 0.82 0.83 0.82 0.83 0.82 0.81 0.81 0.83  nan 0.84 0.84 0.84\n",
      " 0.84 0.84 0.83 0.84 0.84 0.83 0.83  nan 0.83 0.83 0.83 0.83 0.83 0.83\n",
      " 0.82 0.83 0.82 0.82  nan 0.82 0.82 0.82 0.82 0.82 0.83 0.83 0.83 0.83\n",
      " 0.83  nan 0.82 0.82 0.82 0.82 0.83 0.82 0.82 0.82 0.81 0.83  nan 0.83\n",
      " 0.83 0.84 0.84 0.82 0.82 0.83 0.82 0.82 0.82  nan 0.81 0.81 0.81 0.82\n",
      " 0.82 0.81 0.82 0.82 0.81 0.81  nan 0.84 0.82 0.82 0.84 0.84 0.83 0.83\n",
      " 0.82 0.83 0.83  nan 0.82 0.82 0.83 0.82 0.83 0.83 0.83 0.82 0.81 0.82\n",
      "  nan 0.85 0.85 0.85 0.84 0.84 0.84 0.84 0.84 0.83 0.84  nan 0.83 0.82\n",
      " 0.82 0.82 0.82 0.83 0.82 0.82 0.82 0.82  nan 0.75 0.75 0.75 0.75 0.75\n",
      " 0.75 0.75 0.75 0.75 0.75  nan 0.75 0.75 0.75 0.75 0.75 0.75 0.75 0.75\n",
      " 0.75 0.75  nan 0.75 0.75 0.75 0.75 0.75 0.75 0.75 0.75 0.75 0.75  nan\n",
      " 0.75 0.75 0.75 0.75 0.75 0.75 0.75 0.75 0.75 0.75  nan 0.75 0.75 0.75\n",
      " 0.75 0.75 0.75 0.75 0.75 0.75 0.75  nan 0.75 0.75 0.75 0.75 0.75 0.75\n",
      " 0.75 0.75 0.75 0.75  nan 0.75 0.75 0.75 0.75 0.75 0.75 0.75 0.75 0.75\n",
      " 0.75  nan 0.75 0.75 0.75 0.75 0.75 0.75 0.75 0.75 0.75 0.75  nan 0.75\n",
      " 0.75 0.75 0.75 0.75 0.75 0.75 0.75 0.75 0.75  nan 0.75 0.75 0.75 0.75\n",
      " 0.75 0.75 0.75 0.75 0.75 0.75  nan 0.75 0.75 0.75 0.75 0.75 0.75 0.75\n",
      " 0.75 0.75 0.75  nan 0.75 0.75 0.75 0.75 0.75 0.75 0.75 0.75 0.75 0.75\n",
      "  nan 0.72 0.72 0.72 0.72 0.72 0.72 0.72 0.72 0.72 0.72  nan 0.72 0.72\n",
      " 0.72 0.72 0.72 0.72 0.72 0.72 0.72 0.72  nan 0.72 0.72 0.72 0.72 0.72\n",
      " 0.72 0.72 0.72 0.72 0.72  nan 0.72 0.72 0.72 0.72 0.72 0.72 0.72 0.72\n",
      " 0.72 0.72  nan 0.69 0.69 0.69 0.69 0.69 0.69 0.69 0.69 0.69 0.69  nan\n",
      " 0.69 0.69 0.69 0.69 0.69 0.69 0.69 0.69 0.69 0.69  nan 0.69 0.69 0.69\n",
      " 0.69 0.7  0.69 0.69 0.69 0.69 0.69  nan 0.69 0.69 0.69 0.69 0.69 0.69\n",
      " 0.69 0.69 0.69 0.69  nan 0.73 0.73 0.73 0.73 0.73 0.73 0.73 0.73 0.73\n",
      " 0.73  nan 0.74 0.74 0.73 0.73 0.74 0.73 0.73 0.73 0.73 0.73  nan 0.74\n",
      " 0.74 0.74 0.73 0.74 0.74 0.74 0.73 0.73 0.73  nan 0.74 0.74 0.73 0.74\n",
      " 0.74 0.74 0.73 0.74 0.74 0.74  nan 0.75 0.75 0.74 0.74 0.75 0.74 0.74\n",
      " 0.74 0.74 0.75  nan 0.74 0.75 0.75 0.75 0.74 0.75 0.74 0.73 0.75 0.75\n",
      "  nan 0.74 0.75 0.75 0.75 0.75 0.75 0.73 0.75 0.75 0.75  nan 0.74 0.74\n",
      " 0.74 0.73 0.75 0.74 0.74 0.74 0.74 0.73  nan 0.75 0.77 0.74 0.75 0.75\n",
      " 0.77 0.76 0.75 0.75 0.74  nan 0.76 0.76 0.75 0.75 0.75 0.75 0.76 0.74\n",
      " 0.74 0.77  nan 0.74 0.75 0.75 0.77 0.76 0.76 0.75 0.74 0.74 0.74  nan\n",
      " 0.74 0.74 0.74 0.74 0.75 0.75 0.75 0.75 0.75 0.75  nan 0.77 0.77 0.77\n",
      " 0.77 0.77 0.77 0.76 0.75 0.76 0.76  nan 0.76 0.76 0.76 0.77 0.76 0.76\n",
      " 0.75 0.76 0.75 0.76  nan 0.78 0.77 0.78 0.78 0.77 0.77 0.76 0.76 0.75\n",
      " 0.77  nan 0.75 0.75 0.74 0.75 0.76 0.75 0.75 0.75 0.75 0.76  nan 0.77\n",
      " 0.76 0.77 0.77 0.77 0.77 0.77 0.77 0.77 0.76  nan 0.78 0.76 0.77 0.78\n",
      " 0.78 0.78 0.76 0.76 0.76 0.76  nan 0.77 0.79 0.78 0.78 0.78 0.78 0.77\n",
      " 0.77 0.78 0.78  nan 0.76 0.76 0.77 0.77 0.77 0.76 0.76 0.76 0.76 0.77\n",
      "  nan 0.8  0.79 0.79 0.79 0.78 0.79 0.78 0.77 0.77 0.78  nan 0.78 0.79\n",
      " 0.79 0.79 0.79 0.79 0.78 0.77 0.78 0.78  nan 0.79 0.79 0.79 0.79 0.78\n",
      " 0.79 0.78 0.78 0.78 0.79  nan 0.77 0.77 0.76 0.76 0.77 0.77 0.76 0.75\n",
      " 0.77 0.77]\n",
      "  warnings.warn(\n"
     ]
    },
    {
     "data": {
      "text/plain": [
       "GridSearchCV(cv=10, estimator=DecisionTreeClassifier(), n_jobs=-1,\n",
       "             param_grid={'criterion': ['gini', 'entropy'],\n",
       "                         'max_depth': range(1, 12),\n",
       "                         'min_samples_leaf': range(1, 5),\n",
       "                         'min_samples_split': range(1, 12)},\n",
       "             verbose=1)"
      ]
     },
     "execution_count": 629,
     "metadata": {},
     "output_type": "execute_result"
    }
   ],
   "source": [
    "grid= GridSearchCV(dtclassifier, param_grid=param_dict, cv=10, verbose=1, n_jobs=-1)\n",
    "grid.fit(x_train, y_train)"
   ]
  },
  {
   "cell_type": "markdown",
   "id": "welcome-carolina",
   "metadata": {},
   "source": [
    "### This will yield the most optimal parameters, estimator and score for our decision tree classifier."
   ]
  },
  {
   "cell_type": "code",
   "execution_count": 630,
   "id": "digital-integer",
   "metadata": {},
   "outputs": [
    {
     "name": "stdout",
     "output_type": "stream",
     "text": [
      "Best parameter: {'criterion': 'gini', 'max_depth': 11, 'min_samples_leaf': 3, 'min_samples_split': 3}\n",
      "Grid best estimator: DecisionTreeClassifier(max_depth=11, min_samples_leaf=3, min_samples_split=3)\n",
      "Best score: 0.8481638418079097\n"
     ]
    }
   ],
   "source": [
    "print('Best parameter:',grid.best_params_)\n",
    "print('Grid best estimator:',grid.best_estimator_)\n",
    "print('Best score:',grid.best_score_)"
   ]
  },
  {
   "cell_type": "markdown",
   "id": "collaborative-greene",
   "metadata": {},
   "source": [
    "### Will now, apply the above-mentioned parameters for the decision tree classifier"
   ]
  },
  {
   "cell_type": "code",
   "execution_count": 631,
   "id": "liquid-alfred",
   "metadata": {},
   "outputs": [
    {
     "data": {
      "text/plain": [
       "DecisionTreeClassifier(max_depth=11, min_samples_leaf=3, min_samples_split=3)"
      ]
     },
     "execution_count": 631,
     "metadata": {},
     "output_type": "execute_result"
    }
   ],
   "source": [
    "dtclassifier = DecisionTreeClassifier(criterion= 'gini', max_depth=11,  min_samples_leaf=3, min_samples_split=3)\n",
    "dtclassifier"
   ]
  },
  {
   "cell_type": "markdown",
   "id": "infrared-nature",
   "metadata": {},
   "source": [
    "### To train the model, I used the fit function."
   ]
  },
  {
   "cell_type": "code",
   "execution_count": 632,
   "id": "empty-inspector",
   "metadata": {},
   "outputs": [
    {
     "data": {
      "text/plain": [
       "DecisionTreeClassifier(max_depth=11, min_samples_leaf=3, min_samples_split=3)"
      ]
     },
     "execution_count": 632,
     "metadata": {},
     "output_type": "execute_result"
    }
   ],
   "source": [
    "dtclassifier.fit(x_train,y_train)"
   ]
  },
  {
   "cell_type": "markdown",
   "id": "nervous-absolute",
   "metadata": {},
   "source": [
    "### A complete way for calculating the ROC curve and ROC AUC for a Decision Tree"
   ]
  },
  {
   "cell_type": "code",
   "execution_count": 633,
   "id": "minus-angle",
   "metadata": {},
   "outputs": [],
   "source": [
    "# predict probabilities\n",
    "dt_probs = dtclassifier.predict_proba(x_test)"
   ]
  },
  {
   "cell_type": "code",
   "execution_count": 634,
   "id": "sitting-tennessee",
   "metadata": {},
   "outputs": [],
   "source": [
    "# keep probabilities for the positive outcome only\n",
    "dt_probs = dt_probs[:, 1]"
   ]
  },
  {
   "cell_type": "code",
   "execution_count": 635,
   "id": "returning-christmas",
   "metadata": {},
   "outputs": [],
   "source": [
    "# calculate scores\n",
    "ns_auc = roc_auc_score(y_test, ns_probs)\n",
    "dt_auc = roc_auc_score(y_test, dt_probs)"
   ]
  },
  {
   "cell_type": "code",
   "execution_count": 636,
   "id": "competitive-receiver",
   "metadata": {},
   "outputs": [
    {
     "name": "stdout",
     "output_type": "stream",
     "text": [
      "No Skill: ROC AUC=0.500\n",
      "Logistic: ROC AUC=0.862\n"
     ]
    }
   ],
   "source": [
    "# summarize scores\n",
    "print('No Skill: ROC AUC=%.3f' % (ns_auc))\n",
    "print('Logistic: ROC AUC=%.3f' % (dt_auc))"
   ]
  },
  {
   "cell_type": "code",
   "execution_count": 637,
   "id": "clean-driving",
   "metadata": {},
   "outputs": [],
   "source": [
    "# calculate roc curves\n",
    "ns_fpr, ns_tpr, _ = roc_curve(y_test, ns_probs)\n",
    "dt_fpr, dt_tpr, _ = roc_curve(y_test, dt_probs)"
   ]
  },
  {
   "cell_type": "markdown",
   "id": "blocked-aquatic",
   "metadata": {},
   "source": [
    "### Plot the ROC curve for the model"
   ]
  },
  {
   "cell_type": "code",
   "execution_count": 638,
   "id": "employed-kinase",
   "metadata": {},
   "outputs": [
    {
     "data": {
      "image/png": "[encoded data removed]",
      "text/plain": [
       "<Figure size 432x288 with 1 Axes>"
      ]
     },
     "metadata": {
      "needs_background": "light"
     },
     "output_type": "display_data"
    }
   ],
   "source": [
    "# plot the roc curve for the model\n",
    "pyplot.plot(ns_fpr, ns_tpr, linestyle='--', label='No Skill')\n",
    "pyplot.plot(dt_fpr, dt_tpr, marker='.', label='DT')\n",
    "pyplot.xlabel('False Positive Rate')\n",
    "pyplot.ylabel('True Positive Rate')\n",
    "pyplot.legend()\n",
    "pyplot.show()"
   ]
  },
  {
   "cell_type": "markdown",
   "id": "serial-franklin",
   "metadata": {},
   "source": [
    "### Will apply the predict method to the test set."
   ]
  },
  {
   "cell_type": "code",
   "execution_count": 639,
   "id": "rolled-syracuse",
   "metadata": {},
   "outputs": [],
   "source": [
    "y_pred = dtclassifier.predict(x_test)"
   ]
  },
  {
   "cell_type": "markdown",
   "id": "ambient-musical",
   "metadata": {},
   "source": [
    "### I used cross validation to further analyse the model's performance on its test set."
   ]
  },
  {
   "cell_type": "code",
   "execution_count": 640,
   "id": "talented-content",
   "metadata": {},
   "outputs": [
    {
     "name": "stdout",
     "output_type": "stream",
     "text": [
      "              precision    recall  f1-score   support\n",
      "\n",
      "           0       0.62      0.74      0.67        42\n",
      "           1       0.89      0.82      0.85       106\n",
      "\n",
      "    accuracy                           0.80       148\n",
      "   macro avg       0.75      0.78      0.76       148\n",
      "weighted avg       0.81      0.80      0.80       148\n",
      "\n",
      "Accuracy of Decision Tree classifier on the training set: 0.95\n",
      "Accuracy of Decision Tree classifier on the test set: 0.80\n",
      "Cross-validation score:  [0.82 0.77 0.85 0.86 0.86 0.81 0.93 0.83 0.85 0.88]\n",
      "Cross-validation mean score:  0.8464689265536721\n"
     ]
    }
   ],
   "source": [
    "print(classification_report(y_test, y_pred))\n",
    "\n",
    "print('Accuracy of Decision Tree classifier on the training set: {:.2f}'.format(dtclassifier.score(x_train, y_train)))\n",
    "print('Accuracy of Decision Tree classifier on the test set: {:.2f}'.format(dtclassifier.score(x_test, y_test)))\n",
    "\n",
    "#Decision Trees are very prone to overfitting as shown in the scores\n",
    "\n",
    "score = cross_val_score(dtclassifier, x_train, y_train, cv=10) \n",
    "print('Cross-validation score: ',score)\n",
    "print('Cross-validation mean score: ',score.mean())"
   ]
  },
  {
   "cell_type": "markdown",
   "id": "political-battlefield",
   "metadata": {},
   "source": [
    "### Summarize the model's performance using different classification metrics."
   ]
  },
  {
   "cell_type": "code",
   "execution_count": 641,
   "id": "essential-moisture",
   "metadata": {},
   "outputs": [
    {
     "name": "stdout",
     "output_type": "stream",
     "text": [
      "Length of testing data:  148\n",
      "accuracy_count :  118\n",
      "accuracy_score :  0.7972972972972973\n",
      "f1_score :  0.8021358954862792\n",
      "precision_score :  0.8117705460562603\n",
      "recall_score :  0.7972972972972973\n",
      "jaccard_score :  0.6767890210513161\n"
     ]
    }
   ],
   "source": [
    "def summarize_classification(y_test,y_pred,avg_method='weighted'):\n",
    "    acc = accuracy_score(y_test, y_pred,normalize=True)\n",
    "    num_acc = accuracy_score(y_test, y_pred,normalize=False)\n",
    "    f1= f1_score(y_test, y_pred, average=avg_method)\n",
    "    prec = precision_score(y_test, y_pred, average=avg_method)\n",
    "    recall = recall_score(y_test, y_pred, average=avg_method)\n",
    "    jaccard = jaccard_score(y_test, y_pred, average=avg_method)\n",
    "    \n",
    "    print(\"Length of testing data: \", len(y_test))\n",
    "    print(\"accuracy_count : \" , num_acc)\n",
    "    print(\"accuracy_score : \" , acc)\n",
    "    print(\"f1_score : \" , f1)\n",
    "    print(\"precision_score : \" , prec)\n",
    "    print(\"recall_score : \", recall)\n",
    "    print(\"jaccard_score : \", jaccard)\n",
    "\n",
    "summarize_classification(y_test, y_pred)"
   ]
  },
  {
   "cell_type": "markdown",
   "id": "desperate-hepatitis",
   "metadata": {},
   "source": [
    "### In y_pred, save the model's anticipated outcome."
   ]
  },
  {
   "cell_type": "code",
   "execution_count": 642,
   "id": "difficult-cooling",
   "metadata": {},
   "outputs": [],
   "source": [
    "y_pred = dtclassifier.predict(x_test)"
   ]
  },
  {
   "cell_type": "markdown",
   "id": "formed-berry",
   "metadata": {},
   "source": [
    "### Let's examine how well the model predicts on unseen data."
   ]
  },
  {
   "cell_type": "code",
   "execution_count": 643,
   "id": "desirable-summit",
   "metadata": {},
   "outputs": [
    {
     "data": {
      "text/html": [
       "<div>\n",
       "<style scoped>\n",
       "    .dataframe tbody tr th:only-of-type {\n",
       "        vertical-align: middle;\n",
       "    }\n",
       "\n",
       "    .dataframe tbody tr th {\n",
       "        vertical-align: top;\n",
       "    }\n",
       "\n",
       "    .dataframe thead th {\n",
       "        text-align: right;\n",
       "    }\n",
       "</style>\n",
       "<table border=\"1\" class=\"dataframe\">\n",
       "  <thead>\n",
       "    <tr style=\"text-align: right;\">\n",
       "      <th></th>\n",
       "      <th>y_test</th>\n",
       "      <th>y_pred</th>\n",
       "    </tr>\n",
       "  </thead>\n",
       "  <tbody>\n",
       "    <tr>\n",
       "      <th>47</th>\n",
       "      <td>1</td>\n",
       "      <td>1</td>\n",
       "    </tr>\n",
       "    <tr>\n",
       "      <th>104</th>\n",
       "      <td>1</td>\n",
       "      <td>1</td>\n",
       "    </tr>\n",
       "    <tr>\n",
       "      <th>25</th>\n",
       "      <td>1</td>\n",
       "      <td>1</td>\n",
       "    </tr>\n",
       "    <tr>\n",
       "      <th>38</th>\n",
       "      <td>0</td>\n",
       "      <td>1</td>\n",
       "    </tr>\n",
       "    <tr>\n",
       "      <th>81</th>\n",
       "      <td>1</td>\n",
       "      <td>0</td>\n",
       "    </tr>\n",
       "    <tr>\n",
       "      <th>82</th>\n",
       "      <td>1</td>\n",
       "      <td>1</td>\n",
       "    </tr>\n",
       "    <tr>\n",
       "      <th>16</th>\n",
       "      <td>0</td>\n",
       "      <td>0</td>\n",
       "    </tr>\n",
       "    <tr>\n",
       "      <th>67</th>\n",
       "      <td>1</td>\n",
       "      <td>0</td>\n",
       "    </tr>\n",
       "    <tr>\n",
       "      <th>135</th>\n",
       "      <td>0</td>\n",
       "      <td>0</td>\n",
       "    </tr>\n",
       "    <tr>\n",
       "      <th>84</th>\n",
       "      <td>1</td>\n",
       "      <td>0</td>\n",
       "    </tr>\n",
       "  </tbody>\n",
       "</table>\n",
       "</div>"
      ],
      "text/plain": [
       "     y_test  y_pred\n",
       "47        1       1\n",
       "104       1       1\n",
       "25        1       1\n",
       "38        0       1\n",
       "81        1       0\n",
       "82        1       1\n",
       "16        0       0\n",
       "67        1       0\n",
       "135       0       0\n",
       "84        1       0"
      ]
     },
     "execution_count": 643,
     "metadata": {},
     "output_type": "execute_result"
    }
   ],
   "source": [
    "#Accuracy performance\n",
    "pred_results = pd.DataFrame({'y_test': pd.Series(y_test),\n",
    "                             'y_pred': pd.Series(y_pred)})\n",
    "\n",
    "pred_results.sample(10)"
   ]
  },
  {
   "cell_type": "markdown",
   "id": "confused-sharp",
   "metadata": {},
   "source": [
    "### To further evaluate our performance findings, let's build a confusion matrix that describes the false positive, true negative, true positive, and false negative."
   ]
  },
  {
   "cell_type": "code",
   "execution_count": 644,
   "id": "executive-apollo",
   "metadata": {},
   "outputs": [],
   "source": [
    "def plot_confusion_matrix(cm, classes,\n",
    "                          normalize=False,\n",
    "                          title='Confusion matrix',\n",
    "                          cmap=plt.cm.Blues):\n",
    "    \"\"\"\n",
    "    This function prints and plots the confusion matrix.\n",
    "    Normalization can be applied by setting `normalize=True`.\n",
    "    \"\"\"\n",
    "    if normalize:\n",
    "        cm = cm.astype('float') / cm.sum(axis=1)[:, np.newaxis]\n",
    "        print(\"Normalized confusion matrix\")\n",
    "    else:\n",
    "        print('Confusion matrix, without normalization')\n",
    "\n",
    "    print(cm)\n",
    "\n",
    "    plt.imshow(cm, interpolation='nearest', cmap=cmap)\n",
    "    plt.title(title)\n",
    "    plt.colorbar()\n",
    "    tick_marks = np.arange(len(classes))\n",
    "    plt.xticks(tick_marks, classes, rotation=45)\n",
    "    plt.yticks(tick_marks, classes)\n",
    "\n",
    "    fmt = '.2f' if normalize else 'd'\n",
    "    thresh = cm.max() / 2.\n",
    "    for i, j in itertools.product(range(cm.shape[0]), range(cm.shape[1])):\n",
    "        plt.text(j, i, format(cm[i, j], fmt),\n",
    "                 horizontalalignment=\"center\",\n",
    "                 color=\"white\" if cm[i, j] > thresh else \"black\")\n",
    "\n",
    "    plt.tight_layout()\n",
    "    plt.ylabel('True label')\n",
    "    plt.xlabel('Predicted label')"
   ]
  },
  {
   "cell_type": "code",
   "execution_count": 645,
   "id": "sublime-canadian",
   "metadata": {},
   "outputs": [
    {
     "name": "stdout",
     "output_type": "stream",
     "text": [
      "              precision    recall  f1-score   support\n",
      "\n",
      "           0       0.62      0.74      0.67        42\n",
      "           1       0.89      0.82      0.85       106\n",
      "\n",
      "    accuracy                           0.80       148\n",
      "   macro avg       0.75      0.78      0.76       148\n",
      "weighted avg       0.81      0.80      0.80       148\n",
      "\n",
      "Confusion matrix, without normalization\n",
      "[[31 11]\n",
      " [19 87]]\n"
     ]
    },
    {
     "data": {
      "image/png": "[encoded data removed]",
      "text/plain": [
       "<Figure size 432x288 with 2 Axes>"
      ]
     },
     "metadata": {
      "needs_background": "light"
     },
     "output_type": "display_data"
    }
   ],
   "source": [
    "# Compute confusion matrix\n",
    "cnf_matrix = confusion_matrix(y_test, y_pred, labels=[0,1])\n",
    "np.set_printoptions(precision=2)\n",
    "\n",
    "print (classification_report(y_test, y_pred))\n",
    "\n",
    "# Plot non-normalized confusion matrix\n",
    "plt.figure()\n",
    "plot_confusion_matrix(cnf_matrix, classes=['False(0)','True(1)'],normalize= False,  title='Confusion matrix')"
   ]
  },
  {
   "cell_type": "markdown",
   "id": "personalized-morris",
   "metadata": {},
   "source": [
    "# Support Vector Machine Learning Technique"
   ]
  },
  {
   "cell_type": "markdown",
   "id": "synthetic-cookbook",
   "metadata": {},
   "source": [
    "### Load the historical dataset of the online computer store."
   ]
  },
  {
   "cell_type": "code",
   "execution_count": 646,
   "id": "junior-spread",
   "metadata": {},
   "outputs": [
    {
     "data": {
      "text/html": [
       "<div>\n",
       "<style scoped>\n",
       "    .dataframe tbody tr th:only-of-type {\n",
       "        vertical-align: middle;\n",
       "    }\n",
       "\n",
       "    .dataframe tbody tr th {\n",
       "        vertical-align: top;\n",
       "    }\n",
       "\n",
       "    .dataframe thead th {\n",
       "        text-align: right;\n",
       "    }\n",
       "</style>\n",
       "<table border=\"1\" class=\"dataframe\">\n",
       "  <thead>\n",
       "    <tr style=\"text-align: right;\">\n",
       "      <th></th>\n",
       "      <th>F1</th>\n",
       "      <th>F2</th>\n",
       "      <th>F3</th>\n",
       "      <th>F4</th>\n",
       "      <th>F5</th>\n",
       "      <th>F6</th>\n",
       "      <th>F7</th>\n",
       "      <th>F8</th>\n",
       "      <th>C</th>\n",
       "    </tr>\n",
       "  </thead>\n",
       "  <tbody>\n",
       "    <tr>\n",
       "      <th>0</th>\n",
       "      <td>1</td>\n",
       "      <td>0.73</td>\n",
       "      <td>14</td>\n",
       "      <td>2.49</td>\n",
       "      <td>2</td>\n",
       "      <td>0.89</td>\n",
       "      <td>1</td>\n",
       "      <td>0.60</td>\n",
       "      <td>True</td>\n",
       "    </tr>\n",
       "    <tr>\n",
       "      <th>1</th>\n",
       "      <td>3</td>\n",
       "      <td>0.65</td>\n",
       "      <td>15</td>\n",
       "      <td>1.51</td>\n",
       "      <td>9</td>\n",
       "      <td>0.91</td>\n",
       "      <td>1</td>\n",
       "      <td>0.68</td>\n",
       "      <td>True</td>\n",
       "    </tr>\n",
       "    <tr>\n",
       "      <th>2</th>\n",
       "      <td>-10</td>\n",
       "      <td>0.21</td>\n",
       "      <td>39</td>\n",
       "      <td>1.67</td>\n",
       "      <td>5</td>\n",
       "      <td>0.10</td>\n",
       "      <td>1</td>\n",
       "      <td>0.58</td>\n",
       "      <td>True</td>\n",
       "    </tr>\n",
       "    <tr>\n",
       "      <th>3</th>\n",
       "      <td>-12</td>\n",
       "      <td>1.45</td>\n",
       "      <td>20</td>\n",
       "      <td>-1.54</td>\n",
       "      <td>9</td>\n",
       "      <td>0.70</td>\n",
       "      <td>1</td>\n",
       "      <td>0.27</td>\n",
       "      <td>True</td>\n",
       "    </tr>\n",
       "    <tr>\n",
       "      <th>4</th>\n",
       "      <td>13</td>\n",
       "      <td>0.03</td>\n",
       "      <td>41</td>\n",
       "      <td>2.21</td>\n",
       "      <td>9</td>\n",
       "      <td>0.39</td>\n",
       "      <td>1</td>\n",
       "      <td>1.03</td>\n",
       "      <td>False</td>\n",
       "    </tr>\n",
       "    <tr>\n",
       "      <th>5</th>\n",
       "      <td>-16</td>\n",
       "      <td>0.64</td>\n",
       "      <td>10</td>\n",
       "      <td>0.61</td>\n",
       "      <td>7</td>\n",
       "      <td>0.91</td>\n",
       "      <td>1</td>\n",
       "      <td>0.39</td>\n",
       "      <td>False</td>\n",
       "    </tr>\n",
       "    <tr>\n",
       "      <th>6</th>\n",
       "      <td>8</td>\n",
       "      <td>0.37</td>\n",
       "      <td>16</td>\n",
       "      <td>1.23</td>\n",
       "      <td>10</td>\n",
       "      <td>0.44</td>\n",
       "      <td>1</td>\n",
       "      <td>0.12</td>\n",
       "      <td>True</td>\n",
       "    </tr>\n",
       "    <tr>\n",
       "      <th>7</th>\n",
       "      <td>-19</td>\n",
       "      <td>1.53</td>\n",
       "      <td>16</td>\n",
       "      <td>-1.61</td>\n",
       "      <td>2</td>\n",
       "      <td>0.09</td>\n",
       "      <td>1</td>\n",
       "      <td>0.40</td>\n",
       "      <td>False</td>\n",
       "    </tr>\n",
       "    <tr>\n",
       "      <th>8</th>\n",
       "      <td>15</td>\n",
       "      <td>1.81</td>\n",
       "      <td>9</td>\n",
       "      <td>-3.04</td>\n",
       "      <td>3</td>\n",
       "      <td>0.42</td>\n",
       "      <td>1</td>\n",
       "      <td>0.39</td>\n",
       "      <td>False</td>\n",
       "    </tr>\n",
       "    <tr>\n",
       "      <th>9</th>\n",
       "      <td>0</td>\n",
       "      <td>0.41</td>\n",
       "      <td>12</td>\n",
       "      <td>2.12</td>\n",
       "      <td>14</td>\n",
       "      <td>0.92</td>\n",
       "      <td>1</td>\n",
       "      <td>0.04</td>\n",
       "      <td>False</td>\n",
       "    </tr>\n",
       "  </tbody>\n",
       "</table>\n",
       "</div>"
      ],
      "text/plain": [
       "   F1    F2  F3    F4  F5    F6  F7    F8      C\n",
       "0   1  0.73  14  2.49   2  0.89   1  0.60   True\n",
       "1   3  0.65  15  1.51   9  0.91   1  0.68   True\n",
       "2 -10  0.21  39  1.67   5  0.10   1  0.58   True\n",
       "3 -12  1.45  20 -1.54   9  0.70   1  0.27   True\n",
       "4  13  0.03  41  2.21   9  0.39   1  1.03  False\n",
       "5 -16  0.64  10  0.61   7  0.91   1  0.39  False\n",
       "6   8  0.37  16  1.23  10  0.44   1  0.12   True\n",
       "7 -19  1.53  16 -1.61   2  0.09   1  0.40  False\n",
       "8  15  1.81   9 -3.04   3  0.42   1  0.39  False\n",
       "9   0  0.41  12  2.12  14  0.92   1  0.04  False"
      ]
     },
     "execution_count": 646,
     "metadata": {},
     "output_type": "execute_result"
    }
   ],
   "source": [
    "df_svm=pd.read_csv(\"CE802_ASS_2018_RESIT.csv\")\n",
    "df_svm.head(10)"
   ]
  },
  {
   "cell_type": "markdown",
   "id": "olive-stand",
   "metadata": {},
   "source": [
    "### Split data into attributes and target"
   ]
  },
  {
   "cell_type": "code",
   "execution_count": 647,
   "id": "executed-somewhere",
   "metadata": {},
   "outputs": [],
   "source": [
    "X = dt.drop('C', axis=1)\n",
    "y = dt['C']"
   ]
  },
  {
   "cell_type": "markdown",
   "id": "national-alarm",
   "metadata": {},
   "source": [
    "### Standardize the data"
   ]
  },
  {
   "cell_type": "code",
   "execution_count": 648,
   "id": "about-muslim",
   "metadata": {},
   "outputs": [
    {
     "data": {
      "text/plain": [
       "array([[ 0.06, -0.44, -0.8 , ...,  1.35,  0.16,  0.39],\n",
       "       [ 0.24, -0.58, -0.76, ...,  1.42,  0.16,  0.67],\n",
       "       [-0.9 , -1.37,  0.33, ..., -1.34,  0.16,  0.33],\n",
       "       ...,\n",
       "       [-0.9 ,  1.36, -1.26, ...,  0.74,  0.16,  0.43],\n",
       "       [-1.6 ,  0.63,  1.56, ..., -0.8 ,  0.16, -0.44],\n",
       "       [ 1.28, -1.14, -0.39, ...,  1.31,  0.16, -1.58]])"
      ]
     },
     "execution_count": 648,
     "metadata": {},
     "output_type": "execute_result"
    }
   ],
   "source": [
    "scale=StandardScaler()\n",
    "X= scale.fit_transform(X)\n",
    "X"
   ]
  },
  {
   "cell_type": "markdown",
   "id": "registered-camping",
   "metadata": {},
   "source": [
    "### Over-sampling and under-sampling on unbalanced data"
   ]
  },
  {
   "cell_type": "code",
   "execution_count": 649,
   "id": "photographic-james",
   "metadata": {},
   "outputs": [
    {
     "name": "stdout",
     "output_type": "stream",
     "text": [
      "0.7.0\n",
      "Class=0, n=252 (34.054%)\n",
      "Class=1, n=488 (65.946%)\n"
     ]
    },
    {
     "data": {
      "image/png": "[encoded data removed]",
      "text/plain": [
       "<Figure size 432x288 with 1 Axes>"
      ]
     },
     "metadata": {
      "needs_background": "light"
     },
     "output_type": "display_data"
    }
   ],
   "source": [
    "print(imblearn.__version__)\n",
    "\n",
    "\n",
    "\n",
    "oversample = SMOTE()\n",
    "enn = EditedNearestNeighbours()\n",
    "# label encode the target variable\n",
    "\n",
    "y = LabelEncoder().fit_transform(y)\n",
    "\n",
    "X, y = enn.fit_resample(X, y)\n",
    "# summarize distribution\n",
    "counter = Counter(y)\n",
    "for k,v in counter.items():\n",
    "    per = v / len(y) * 100\n",
    "\n",
    "    print('Class=%d, n=%d (%.3f%%)' % (k, v, per))\n",
    "#plot the distribution\n",
    "plt.bar(counter.keys(), counter.values())\n",
    "plt.show()"
   ]
  },
  {
   "cell_type": "markdown",
   "id": "advanced-closure",
   "metadata": {},
   "source": [
    "### Train Test Split divides the dataset into 70 percent for training and 30 percent for testing."
   ]
  },
  {
   "cell_type": "code",
   "execution_count": 650,
   "id": "radical-stroke",
   "metadata": {},
   "outputs": [
    {
     "name": "stdout",
     "output_type": "stream",
     "text": [
      "Train set: (518, 8) (518,)\n",
      "Test set: (222, 8) (222,)\n"
     ]
    }
   ],
   "source": [
    "x_train, x_test, y_train, y_test = train_test_split( X, y, test_size=0.3, random_state=50)\n",
    "print ('Train set:', x_train.shape,  y_train.shape)\n",
    "print ('Test set:', x_test.shape,  y_test.shape)"
   ]
  },
  {
   "cell_type": "markdown",
   "id": "other-conducting",
   "metadata": {},
   "source": [
    "### To build the model, I use the SVM classifier."
   ]
  },
  {
   "cell_type": "code",
   "execution_count": 651,
   "id": "infrared-america",
   "metadata": {},
   "outputs": [],
   "source": [
    "clf = SVC()"
   ]
  },
  {
   "cell_type": "markdown",
   "id": "lined-prayer",
   "metadata": {},
   "source": [
    "### Grid search cross validation hyperparameter tuning will be used to improve our model's performance accuracy."
   ]
  },
  {
   "cell_type": "code",
   "execution_count": 652,
   "id": "characteristic-mechanics",
   "metadata": {},
   "outputs": [
    {
     "name": "stdout",
     "output_type": "stream",
     "text": [
      "Fitting 5 folds for each of 25 candidates, totalling 125 fits\n",
      "[CV 1/5] END .....................C=0.1, gamma=1, kernel=rbf; total time=   0.0s\n",
      "[CV 2/5] END .....................C=0.1, gamma=1, kernel=rbf; total time=   0.0s\n",
      "[CV 3/5] END .....................C=0.1, gamma=1, kernel=rbf; total time=   0.0s\n",
      "[CV 4/5] END .....................C=0.1, gamma=1, kernel=rbf; total time=   0.0s\n",
      "[CV 5/5] END .....................C=0.1, gamma=1, kernel=rbf; total time=   0.0s\n",
      "[CV 1/5] END ...................C=0.1, gamma=0.1, kernel=rbf; total time=   0.0s\n",
      "[CV 2/5] END ...................C=0.1, gamma=0.1, kernel=rbf; total time=   0.0s\n",
      "[CV 3/5] END ...................C=0.1, gamma=0.1, kernel=rbf; total time=   0.0s\n",
      "[CV 4/5] END ...................C=0.1, gamma=0.1, kernel=rbf; total time=   0.0s\n",
      "[CV 5/5] END ...................C=0.1, gamma=0.1, kernel=rbf; total time=   0.0s\n",
      "[CV 1/5] END ..................C=0.1, gamma=0.01, kernel=rbf; total time=   0.0s\n",
      "[CV 2/5] END ..................C=0.1, gamma=0.01, kernel=rbf; total time=   0.0s\n",
      "[CV 3/5] END ..................C=0.1, gamma=0.01, kernel=rbf; total time=   0.0s\n",
      "[CV 4/5] END ..................C=0.1, gamma=0.01, kernel=rbf; total time=   0.0s\n",
      "[CV 5/5] END ..................C=0.1, gamma=0.01, kernel=rbf; total time=   0.0s\n",
      "[CV 1/5] END .................C=0.1, gamma=0.001, kernel=rbf; total time=   0.0s\n",
      "[CV 2/5] END .................C=0.1, gamma=0.001, kernel=rbf; total time=   0.0s\n",
      "[CV 3/5] END .................C=0.1, gamma=0.001, kernel=rbf; total time=   0.0s\n",
      "[CV 4/5] END .................C=0.1, gamma=0.001, kernel=rbf; total time=   0.0s\n",
      "[CV 5/5] END .................C=0.1, gamma=0.001, kernel=rbf; total time=   0.0s\n",
      "[CV 1/5] END ................C=0.1, gamma=0.0001, kernel=rbf; total time=   0.0s\n",
      "[CV 2/5] END ................C=0.1, gamma=0.0001, kernel=rbf; total time=   0.0s\n",
      "[CV 3/5] END ................C=0.1, gamma=0.0001, kernel=rbf; total time=   0.0s\n",
      "[CV 4/5] END ................C=0.1, gamma=0.0001, kernel=rbf; total time=   0.0s\n",
      "[CV 5/5] END ................C=0.1, gamma=0.0001, kernel=rbf; total time=   0.0s\n",
      "[CV 1/5] END .......................C=1, gamma=1, kernel=rbf; total time=   0.0s\n",
      "[CV 2/5] END .......................C=1, gamma=1, kernel=rbf; total time=   0.0s\n",
      "[CV 3/5] END .......................C=1, gamma=1, kernel=rbf; total time=   0.0s\n",
      "[CV 4/5] END .......................C=1, gamma=1, kernel=rbf; total time=   0.0s\n",
      "[CV 5/5] END .......................C=1, gamma=1, kernel=rbf; total time=   0.0s\n",
      "[CV 1/5] END .....................C=1, gamma=0.1, kernel=rbf; total time=   0.0s\n",
      "[CV 2/5] END .....................C=1, gamma=0.1, kernel=rbf; total time=   0.0s\n",
      "[CV 3/5] END .....................C=1, gamma=0.1, kernel=rbf; total time=   0.0s\n",
      "[CV 4/5] END .....................C=1, gamma=0.1, kernel=rbf; total time=   0.0s\n",
      "[CV 5/5] END .....................C=1, gamma=0.1, kernel=rbf; total time=   0.0s\n",
      "[CV 1/5] END ....................C=1, gamma=0.01, kernel=rbf; total time=   0.0s\n",
      "[CV 2/5] END ....................C=1, gamma=0.01, kernel=rbf; total time=   0.0s\n",
      "[CV 3/5] END ....................C=1, gamma=0.01, kernel=rbf; total time=   0.0s\n",
      "[CV 4/5] END ....................C=1, gamma=0.01, kernel=rbf; total time=   0.0s\n",
      "[CV 5/5] END ....................C=1, gamma=0.01, kernel=rbf; total time=   0.0s\n",
      "[CV 1/5] END ...................C=1, gamma=0.001, kernel=rbf; total time=   0.0s\n",
      "[CV 2/5] END ...................C=1, gamma=0.001, kernel=rbf; total time=   0.0s\n",
      "[CV 3/5] END ...................C=1, gamma=0.001, kernel=rbf; total time=   0.0s\n",
      "[CV 4/5] END ...................C=1, gamma=0.001, kernel=rbf; total time=   0.0s\n",
      "[CV 5/5] END ...................C=1, gamma=0.001, kernel=rbf; total time=   0.0s\n",
      "[CV 1/5] END ..................C=1, gamma=0.0001, kernel=rbf; total time=   0.0s\n",
      "[CV 2/5] END ..................C=1, gamma=0.0001, kernel=rbf; total time=   0.0s\n",
      "[CV 3/5] END ..................C=1, gamma=0.0001, kernel=rbf; total time=   0.0s\n",
      "[CV 4/5] END ..................C=1, gamma=0.0001, kernel=rbf; total time=   0.0s\n",
      "[CV 5/5] END ..................C=1, gamma=0.0001, kernel=rbf; total time=   0.0s\n",
      "[CV 1/5] END ......................C=10, gamma=1, kernel=rbf; total time=   0.0s\n",
      "[CV 2/5] END ......................C=10, gamma=1, kernel=rbf; total time=   0.0s\n",
      "[CV 3/5] END ......................C=10, gamma=1, kernel=rbf; total time=   0.0s\n",
      "[CV 4/5] END ......................C=10, gamma=1, kernel=rbf; total time=   0.0s\n",
      "[CV 5/5] END ......................C=10, gamma=1, kernel=rbf; total time=   0.0s\n",
      "[CV 1/5] END ....................C=10, gamma=0.1, kernel=rbf; total time=   0.0s\n",
      "[CV 2/5] END ....................C=10, gamma=0.1, kernel=rbf; total time=   0.0s\n",
      "[CV 3/5] END ....................C=10, gamma=0.1, kernel=rbf; total time=   0.0s\n",
      "[CV 4/5] END ....................C=10, gamma=0.1, kernel=rbf; total time=   0.0s\n",
      "[CV 5/5] END ....................C=10, gamma=0.1, kernel=rbf; total time=   0.0s\n",
      "[CV 1/5] END ...................C=10, gamma=0.01, kernel=rbf; total time=   0.0s\n",
      "[CV 2/5] END ...................C=10, gamma=0.01, kernel=rbf; total time=   0.0s\n",
      "[CV 3/5] END ...................C=10, gamma=0.01, kernel=rbf; total time=   0.0s\n",
      "[CV 4/5] END ...................C=10, gamma=0.01, kernel=rbf; total time=   0.0s\n",
      "[CV 5/5] END ...................C=10, gamma=0.01, kernel=rbf; total time=   0.0s\n",
      "[CV 1/5] END ..................C=10, gamma=0.001, kernel=rbf; total time=   0.0s\n",
      "[CV 2/5] END ..................C=10, gamma=0.001, kernel=rbf; total time=   0.0s\n",
      "[CV 3/5] END ..................C=10, gamma=0.001, kernel=rbf; total time=   0.0s\n",
      "[CV 4/5] END ..................C=10, gamma=0.001, kernel=rbf; total time=   0.0s\n",
      "[CV 5/5] END ..................C=10, gamma=0.001, kernel=rbf; total time=   0.0s\n",
      "[CV 1/5] END .................C=10, gamma=0.0001, kernel=rbf; total time=   0.0s\n",
      "[CV 2/5] END .................C=10, gamma=0.0001, kernel=rbf; total time=   0.0s\n",
      "[CV 3/5] END .................C=10, gamma=0.0001, kernel=rbf; total time=   0.0s\n",
      "[CV 4/5] END .................C=10, gamma=0.0001, kernel=rbf; total time=   0.0s\n",
      "[CV 5/5] END .................C=10, gamma=0.0001, kernel=rbf; total time=   0.0s\n",
      "[CV 1/5] END .....................C=100, gamma=1, kernel=rbf; total time=   0.0s\n",
      "[CV 2/5] END .....................C=100, gamma=1, kernel=rbf; total time=   0.0s\n",
      "[CV 3/5] END .....................C=100, gamma=1, kernel=rbf; total time=   0.0s\n",
      "[CV 4/5] END .....................C=100, gamma=1, kernel=rbf; total time=   0.0s\n",
      "[CV 5/5] END .....................C=100, gamma=1, kernel=rbf; total time=   0.0s\n",
      "[CV 1/5] END ...................C=100, gamma=0.1, kernel=rbf; total time=   0.0s\n",
      "[CV 2/5] END ...................C=100, gamma=0.1, kernel=rbf; total time=   0.0s\n",
      "[CV 3/5] END ...................C=100, gamma=0.1, kernel=rbf; total time=   0.0s\n",
      "[CV 4/5] END ...................C=100, gamma=0.1, kernel=rbf; total time=   0.0s\n",
      "[CV 5/5] END ...................C=100, gamma=0.1, kernel=rbf; total time=   0.0s\n",
      "[CV 1/5] END ..................C=100, gamma=0.01, kernel=rbf; total time=   0.0s\n",
      "[CV 2/5] END ..................C=100, gamma=0.01, kernel=rbf; total time=   0.0s\n",
      "[CV 3/5] END ..................C=100, gamma=0.01, kernel=rbf; total time=   0.0s\n",
      "[CV 4/5] END ..................C=100, gamma=0.01, kernel=rbf; total time=   0.0s\n",
      "[CV 5/5] END ..................C=100, gamma=0.01, kernel=rbf; total time=   0.0s\n",
      "[CV 1/5] END .................C=100, gamma=0.001, kernel=rbf; total time=   0.0s\n",
      "[CV 2/5] END .................C=100, gamma=0.001, kernel=rbf; total time=   0.0s\n",
      "[CV 3/5] END .................C=100, gamma=0.001, kernel=rbf; total time=   0.0s\n",
      "[CV 4/5] END .................C=100, gamma=0.001, kernel=rbf; total time=   0.0s\n",
      "[CV 5/5] END .................C=100, gamma=0.001, kernel=rbf; total time=   0.0s\n",
      "[CV 1/5] END ................C=100, gamma=0.0001, kernel=rbf; total time=   0.0s\n",
      "[CV 2/5] END ................C=100, gamma=0.0001, kernel=rbf; total time=   0.0s\n",
      "[CV 3/5] END ................C=100, gamma=0.0001, kernel=rbf; total time=   0.0s\n",
      "[CV 4/5] END ................C=100, gamma=0.0001, kernel=rbf; total time=   0.0s\n",
      "[CV 5/5] END ................C=100, gamma=0.0001, kernel=rbf; total time=   0.0s\n",
      "[CV 1/5] END ....................C=1000, gamma=1, kernel=rbf; total time=   0.0s\n",
      "[CV 2/5] END ....................C=1000, gamma=1, kernel=rbf; total time=   0.0s\n",
      "[CV 3/5] END ....................C=1000, gamma=1, kernel=rbf; total time=   0.0s\n"
     ]
    },
    {
     "name": "stdout",
     "output_type": "stream",
     "text": [
      "[CV 4/5] END ....................C=1000, gamma=1, kernel=rbf; total time=   0.0s\n",
      "[CV 5/5] END ....................C=1000, gamma=1, kernel=rbf; total time=   0.0s\n",
      "[CV 1/5] END ..................C=1000, gamma=0.1, kernel=rbf; total time=   0.0s\n",
      "[CV 2/5] END ..................C=1000, gamma=0.1, kernel=rbf; total time=   0.0s\n",
      "[CV 3/5] END ..................C=1000, gamma=0.1, kernel=rbf; total time=   0.0s\n",
      "[CV 4/5] END ..................C=1000, gamma=0.1, kernel=rbf; total time=   0.0s\n",
      "[CV 5/5] END ..................C=1000, gamma=0.1, kernel=rbf; total time=   0.0s\n",
      "[CV 1/5] END .................C=1000, gamma=0.01, kernel=rbf; total time=   0.0s\n",
      "[CV 2/5] END .................C=1000, gamma=0.01, kernel=rbf; total time=   0.0s\n",
      "[CV 3/5] END .................C=1000, gamma=0.01, kernel=rbf; total time=   0.0s\n",
      "[CV 4/5] END .................C=1000, gamma=0.01, kernel=rbf; total time=   0.0s\n",
      "[CV 5/5] END .................C=1000, gamma=0.01, kernel=rbf; total time=   0.0s\n",
      "[CV 1/5] END ................C=1000, gamma=0.001, kernel=rbf; total time=   0.0s\n",
      "[CV 2/5] END ................C=1000, gamma=0.001, kernel=rbf; total time=   0.0s\n",
      "[CV 3/5] END ................C=1000, gamma=0.001, kernel=rbf; total time=   0.0s\n",
      "[CV 4/5] END ................C=1000, gamma=0.001, kernel=rbf; total time=   0.0s\n",
      "[CV 5/5] END ................C=1000, gamma=0.001, kernel=rbf; total time=   0.0s\n",
      "[CV 1/5] END ...............C=1000, gamma=0.0001, kernel=rbf; total time=   0.0s\n",
      "[CV 2/5] END ...............C=1000, gamma=0.0001, kernel=rbf; total time=   0.0s\n",
      "[CV 3/5] END ...............C=1000, gamma=0.0001, kernel=rbf; total time=   0.0s\n",
      "[CV 4/5] END ...............C=1000, gamma=0.0001, kernel=rbf; total time=   0.0s\n",
      "[CV 5/5] END ...............C=1000, gamma=0.0001, kernel=rbf; total time=   0.0s\n"
     ]
    },
    {
     "data": {
      "text/plain": [
       "GridSearchCV(estimator=SVC(),\n",
       "             param_grid={'C': [0.1, 1, 10, 100, 1000],\n",
       "                         'gamma': [1, 0.1, 0.01, 0.001, 0.0001],\n",
       "                         'kernel': ['rbf']},\n",
       "             verbose=3)"
      ]
     },
     "execution_count": 652,
     "metadata": {},
     "output_type": "execute_result"
    }
   ],
   "source": [
    "# defining parameter range\n",
    "param_grid = {'C': [0.1, 1, 10, 100, 1000], \n",
    "              'gamma': [1, 0.1, 0.01, 0.001, 0.0001],\n",
    "              'kernel': ['rbf']} \n",
    "  \n",
    "grid = GridSearchCV(clf, param_grid, refit = True, verbose = 3)\n",
    "  \n",
    "# fitting the model for grid search\n",
    "grid.fit(x_train, y_train)"
   ]
  },
  {
   "cell_type": "markdown",
   "id": "short-wrapping",
   "metadata": {},
   "source": [
    "### This will produce the best parameters, estimator, and score for our SVM classifier."
   ]
  },
  {
   "cell_type": "code",
   "execution_count": 653,
   "id": "regulation-chicken",
   "metadata": {},
   "outputs": [
    {
     "name": "stdout",
     "output_type": "stream",
     "text": [
      "Best parameter: {'C': 100, 'gamma': 0.1, 'kernel': 'rbf'}\n",
      "Grid best estimator: SVC(C=100, gamma=0.1)\n",
      "Best score: 0.9304144884241972\n"
     ]
    }
   ],
   "source": [
    "print('Best parameter:',grid.best_params_)\n",
    "print('Grid best estimator:',grid.best_estimator_)\n",
    "print('Best score:',grid.best_score_)"
   ]
  },
  {
   "cell_type": "markdown",
   "id": "reserved-pointer",
   "metadata": {},
   "source": [
    "### Will now, apply the above-mentioned parameters for the SVM classifier"
   ]
  },
  {
   "cell_type": "code",
   "execution_count": 654,
   "id": "honest-speaking",
   "metadata": {},
   "outputs": [
    {
     "data": {
      "text/plain": [
       "SVC(C=100, gamma=0.1)"
      ]
     },
     "execution_count": 654,
     "metadata": {},
     "output_type": "execute_result"
    }
   ],
   "source": [
    "clf = SVC(C=100, gamma=0.1, kernel= 'rbf')\n",
    "clf.fit(x_train, y_train) "
   ]
  },
  {
   "cell_type": "markdown",
   "id": "harmful-retreat",
   "metadata": {},
   "source": [
    "### Will apply the predict method to the test set."
   ]
  },
  {
   "cell_type": "code",
   "execution_count": 655,
   "id": "gentle-jerusalem",
   "metadata": {},
   "outputs": [],
   "source": [
    "y_pred = clf.predict(x_test)"
   ]
  },
  {
   "cell_type": "markdown",
   "id": "urban-musical",
   "metadata": {},
   "source": [
    "### I used cross validation to further analyze the model's performance on its test set."
   ]
  },
  {
   "cell_type": "code",
   "execution_count": 656,
   "id": "appropriate-absolute",
   "metadata": {},
   "outputs": [
    {
     "name": "stdout",
     "output_type": "stream",
     "text": [
      "              precision    recall  f1-score   support\n",
      "\n",
      "           0       0.89      0.85      0.87        66\n",
      "           1       0.94      0.96      0.95       156\n",
      "\n",
      "    accuracy                           0.92       222\n",
      "   macro avg       0.91      0.90      0.91       222\n",
      "weighted avg       0.92      0.92      0.92       222\n",
      "\n",
      "Accuracy of SVM classifier on the training set: 1.00\n",
      "Accuracy of SVM classifier on the test set: 0.92\n",
      "Cross-validation score:  [0.96 0.9  0.92 0.92 0.92 0.9  0.88 0.92 0.92 0.92]\n",
      "Cross-validation mean score:  0.9189291101055808\n"
     ]
    }
   ],
   "source": [
    "print(classification_report(y_test, y_pred))\n",
    "\n",
    "print('Accuracy of SVM classifier on the training set: {:.2f}'.format(clf.score(x_train, y_train)))\n",
    "print('Accuracy of SVM classifier on the test set: {:.2f}'.format(clf.score(x_test, y_test)))\n",
    "\n",
    "#Decision Trees are very prone to overfitting as shown in the scores\n",
    "\n",
    "score = cross_val_score(clf, x_train, y_train, cv=10) \n",
    "print('Cross-validation score: ',score)\n",
    "print('Cross-validation mean score: ',score.mean())"
   ]
  },
  {
   "cell_type": "markdown",
   "id": "pleasant-probe",
   "metadata": {},
   "source": [
    "### Summarize the model's performance using different classification metrics."
   ]
  },
  {
   "cell_type": "code",
   "execution_count": 657,
   "id": "wicked-marks",
   "metadata": {},
   "outputs": [
    {
     "name": "stdout",
     "output_type": "stream",
     "text": [
      "Length of testing data:  222\n",
      "accuracy_count :  205\n",
      "accuracy_score :  0.9234234234234234\n",
      "f1_score :  0.9228976484790439\n",
      "precision_score :  0.9227718284322057\n",
      "recall_score :  0.9234234234234234\n",
      "jaccard_score :  0.8588028530263222\n"
     ]
    }
   ],
   "source": [
    "def summarize_classification(y_test,y_pred,avg_method='weighted'):\n",
    "    acc = accuracy_score(y_test, y_pred,normalize=True)\n",
    "    num_acc = accuracy_score(y_test, y_pred,normalize=False)\n",
    "    f1= f1_score(y_test, y_pred, average=avg_method)\n",
    "    prec = precision_score(y_test, y_pred, average=avg_method)\n",
    "    recall = recall_score(y_test, y_pred, average=avg_method)\n",
    "    jaccard = jaccard_score(y_test, y_pred, average=avg_method)\n",
    "    \n",
    "    print(\"Length of testing data: \", len(y_test))\n",
    "    print(\"accuracy_count : \" , num_acc)\n",
    "    print(\"accuracy_score : \" , acc)\n",
    "    print(\"f1_score : \" , f1)\n",
    "    print(\"precision_score : \" , prec)\n",
    "    print(\"recall_score : \", recall)\n",
    "    print(\"jaccard_score : \", jaccard)\n",
    "    \n",
    "summarize_classification(y_test, y_pred)"
   ]
  },
  {
   "cell_type": "markdown",
   "id": "scheduled-sending",
   "metadata": {},
   "source": [
    "### In y_pred, save the model's anticipated result."
   ]
  },
  {
   "cell_type": "code",
   "execution_count": 658,
   "id": "southeast-directory",
   "metadata": {},
   "outputs": [
    {
     "data": {
      "text/html": [
       "<div>\n",
       "<style scoped>\n",
       "    .dataframe tbody tr th:only-of-type {\n",
       "        vertical-align: middle;\n",
       "    }\n",
       "\n",
       "    .dataframe tbody tr th {\n",
       "        vertical-align: top;\n",
       "    }\n",
       "\n",
       "    .dataframe thead th {\n",
       "        text-align: right;\n",
       "    }\n",
       "</style>\n",
       "<table border=\"1\" class=\"dataframe\">\n",
       "  <thead>\n",
       "    <tr style=\"text-align: right;\">\n",
       "      <th></th>\n",
       "      <th>y_test</th>\n",
       "      <th>y_pred</th>\n",
       "    </tr>\n",
       "  </thead>\n",
       "  <tbody>\n",
       "    <tr>\n",
       "      <th>71</th>\n",
       "      <td>1</td>\n",
       "      <td>1</td>\n",
       "    </tr>\n",
       "    <tr>\n",
       "      <th>73</th>\n",
       "      <td>1</td>\n",
       "      <td>1</td>\n",
       "    </tr>\n",
       "    <tr>\n",
       "      <th>103</th>\n",
       "      <td>0</td>\n",
       "      <td>0</td>\n",
       "    </tr>\n",
       "    <tr>\n",
       "      <th>5</th>\n",
       "      <td>1</td>\n",
       "      <td>1</td>\n",
       "    </tr>\n",
       "    <tr>\n",
       "      <th>4</th>\n",
       "      <td>0</td>\n",
       "      <td>0</td>\n",
       "    </tr>\n",
       "    <tr>\n",
       "      <th>35</th>\n",
       "      <td>1</td>\n",
       "      <td>1</td>\n",
       "    </tr>\n",
       "    <tr>\n",
       "      <th>202</th>\n",
       "      <td>1</td>\n",
       "      <td>0</td>\n",
       "    </tr>\n",
       "    <tr>\n",
       "      <th>102</th>\n",
       "      <td>1</td>\n",
       "      <td>1</td>\n",
       "    </tr>\n",
       "    <tr>\n",
       "      <th>86</th>\n",
       "      <td>1</td>\n",
       "      <td>1</td>\n",
       "    </tr>\n",
       "    <tr>\n",
       "      <th>163</th>\n",
       "      <td>1</td>\n",
       "      <td>1</td>\n",
       "    </tr>\n",
       "  </tbody>\n",
       "</table>\n",
       "</div>"
      ],
      "text/plain": [
       "     y_test  y_pred\n",
       "71        1       1\n",
       "73        1       1\n",
       "103       0       0\n",
       "5         1       1\n",
       "4         0       0\n",
       "35        1       1\n",
       "202       1       0\n",
       "102       1       1\n",
       "86        1       1\n",
       "163       1       1"
      ]
     },
     "execution_count": 658,
     "metadata": {},
     "output_type": "execute_result"
    }
   ],
   "source": [
    "#Accuracy\n",
    "pred_results = pd.DataFrame({'y_test': pd.Series(y_test),\n",
    "                             'y_pred': pd.Series(y_pred)})\n",
    "\n",
    "pred_results.sample(10)"
   ]
  },
  {
   "cell_type": "markdown",
   "id": "proof-friendship",
   "metadata": {},
   "source": [
    "### To further evaluate our performance findings, let's build a confusion matrix that describes the false positive, true negative, true positive, and false negative."
   ]
  },
  {
   "cell_type": "code",
   "execution_count": 659,
   "id": "extraordinary-peeing",
   "metadata": {},
   "outputs": [],
   "source": [
    "def plot_confusion_matrix(cm, classes,\n",
    "                          normalize=False,\n",
    "                          title='Confusion matrix',\n",
    "                          cmap=plt.cm.Blues):\n",
    "    \"\"\"\n",
    "    This function prints and plots the confusion matrix.\n",
    "    Normalization can be applied by setting `normalize=True`.\n",
    "    \"\"\"\n",
    "    if normalize:\n",
    "        cm = cm.astype('float') / cm.sum(axis=1)[:, np.newaxis]\n",
    "        print(\"Normalized confusion matrix\")\n",
    "    else:\n",
    "        print('Confusion matrix, without normalization')\n",
    "\n",
    "    print(cm)\n",
    "\n",
    "    plt.imshow(cm, interpolation='nearest', cmap=cmap)\n",
    "    plt.title(title)\n",
    "    plt.colorbar()\n",
    "    tick_marks = np.arange(len(classes))\n",
    "    plt.xticks(tick_marks, classes, rotation=45)\n",
    "    plt.yticks(tick_marks, classes)\n",
    "\n",
    "    fmt = '.2f' if normalize else 'd'\n",
    "    thresh = cm.max() / 2.\n",
    "    for i, j in itertools.product(range(cm.shape[0]), range(cm.shape[1])):\n",
    "        plt.text(j, i, format(cm[i, j], fmt),\n",
    "                 horizontalalignment=\"center\",\n",
    "                 color=\"white\" if cm[i, j] > thresh else \"black\")\n",
    "\n",
    "    plt.tight_layout()\n",
    "    plt.ylabel('True label')\n",
    "    plt.xlabel('Predicted label')"
   ]
  },
  {
   "cell_type": "code",
   "execution_count": 660,
   "id": "inclusive-imagination",
   "metadata": {},
   "outputs": [
    {
     "name": "stdout",
     "output_type": "stream",
     "text": [
      "              precision    recall  f1-score   support\n",
      "\n",
      "           0       0.89      0.85      0.87        66\n",
      "           1       0.94      0.96      0.95       156\n",
      "\n",
      "    accuracy                           0.92       222\n",
      "   macro avg       0.91      0.90      0.91       222\n",
      "weighted avg       0.92      0.92      0.92       222\n",
      "\n",
      "Confusion matrix, without normalization\n",
      "[[ 56  10]\n",
      " [  7 149]]\n"
     ]
    },
    {
     "data": {
      "image/png": "[encoded data removed]",
      "text/plain": [
       "<Figure size 432x288 with 2 Axes>"
      ]
     },
     "metadata": {
      "needs_background": "light"
     },
     "output_type": "display_data"
    }
   ],
   "source": [
    "# Compute confusion matrix\n",
    "cnf_matrix = confusion_matrix(y_test, y_pred, labels=[0,1])\n",
    "np.set_printoptions(precision=2)\n",
    "\n",
    "print (classification_report(y_test, y_pred))\n",
    "\n",
    "# Plot non-normalized confusion matrix\n",
    "plt.figure()\n",
    "plot_confusion_matrix(cnf_matrix, classes=['False(0)','True(1)'],normalize= False,  title='Confusion matrix')"
   ]
  },
  {
   "cell_type": "markdown",
   "id": "animated-reducing",
   "metadata": {},
   "source": [
    "# Random Forest Classifier"
   ]
  },
  {
   "cell_type": "markdown",
   "id": "usual-business",
   "metadata": {},
   "source": [
    "### Load the historical dataset of the online computer store."
   ]
  },
  {
   "cell_type": "code",
   "execution_count": 661,
   "id": "necessary-month",
   "metadata": {},
   "outputs": [
    {
     "data": {
      "text/html": [
       "<div>\n",
       "<style scoped>\n",
       "    .dataframe tbody tr th:only-of-type {\n",
       "        vertical-align: middle;\n",
       "    }\n",
       "\n",
       "    .dataframe tbody tr th {\n",
       "        vertical-align: top;\n",
       "    }\n",
       "\n",
       "    .dataframe thead th {\n",
       "        text-align: right;\n",
       "    }\n",
       "</style>\n",
       "<table border=\"1\" class=\"dataframe\">\n",
       "  <thead>\n",
       "    <tr style=\"text-align: right;\">\n",
       "      <th></th>\n",
       "      <th>F1</th>\n",
       "      <th>F2</th>\n",
       "      <th>F3</th>\n",
       "      <th>F4</th>\n",
       "      <th>F5</th>\n",
       "      <th>F6</th>\n",
       "      <th>F7</th>\n",
       "      <th>F8</th>\n",
       "      <th>C</th>\n",
       "    </tr>\n",
       "  </thead>\n",
       "  <tbody>\n",
       "    <tr>\n",
       "      <th>0</th>\n",
       "      <td>1</td>\n",
       "      <td>0.73</td>\n",
       "      <td>14</td>\n",
       "      <td>2.49</td>\n",
       "      <td>2</td>\n",
       "      <td>0.89</td>\n",
       "      <td>1</td>\n",
       "      <td>0.60</td>\n",
       "      <td>True</td>\n",
       "    </tr>\n",
       "    <tr>\n",
       "      <th>1</th>\n",
       "      <td>3</td>\n",
       "      <td>0.65</td>\n",
       "      <td>15</td>\n",
       "      <td>1.51</td>\n",
       "      <td>9</td>\n",
       "      <td>0.91</td>\n",
       "      <td>1</td>\n",
       "      <td>0.68</td>\n",
       "      <td>True</td>\n",
       "    </tr>\n",
       "    <tr>\n",
       "      <th>2</th>\n",
       "      <td>-10</td>\n",
       "      <td>0.21</td>\n",
       "      <td>39</td>\n",
       "      <td>1.67</td>\n",
       "      <td>5</td>\n",
       "      <td>0.10</td>\n",
       "      <td>1</td>\n",
       "      <td>0.58</td>\n",
       "      <td>True</td>\n",
       "    </tr>\n",
       "    <tr>\n",
       "      <th>3</th>\n",
       "      <td>-12</td>\n",
       "      <td>1.45</td>\n",
       "      <td>20</td>\n",
       "      <td>-1.54</td>\n",
       "      <td>9</td>\n",
       "      <td>0.70</td>\n",
       "      <td>1</td>\n",
       "      <td>0.27</td>\n",
       "      <td>True</td>\n",
       "    </tr>\n",
       "    <tr>\n",
       "      <th>4</th>\n",
       "      <td>13</td>\n",
       "      <td>0.03</td>\n",
       "      <td>41</td>\n",
       "      <td>2.21</td>\n",
       "      <td>9</td>\n",
       "      <td>0.39</td>\n",
       "      <td>1</td>\n",
       "      <td>1.03</td>\n",
       "      <td>False</td>\n",
       "    </tr>\n",
       "    <tr>\n",
       "      <th>5</th>\n",
       "      <td>-16</td>\n",
       "      <td>0.64</td>\n",
       "      <td>10</td>\n",
       "      <td>0.61</td>\n",
       "      <td>7</td>\n",
       "      <td>0.91</td>\n",
       "      <td>1</td>\n",
       "      <td>0.39</td>\n",
       "      <td>False</td>\n",
       "    </tr>\n",
       "    <tr>\n",
       "      <th>6</th>\n",
       "      <td>8</td>\n",
       "      <td>0.37</td>\n",
       "      <td>16</td>\n",
       "      <td>1.23</td>\n",
       "      <td>10</td>\n",
       "      <td>0.44</td>\n",
       "      <td>1</td>\n",
       "      <td>0.12</td>\n",
       "      <td>True</td>\n",
       "    </tr>\n",
       "    <tr>\n",
       "      <th>7</th>\n",
       "      <td>-19</td>\n",
       "      <td>1.53</td>\n",
       "      <td>16</td>\n",
       "      <td>-1.61</td>\n",
       "      <td>2</td>\n",
       "      <td>0.09</td>\n",
       "      <td>1</td>\n",
       "      <td>0.40</td>\n",
       "      <td>False</td>\n",
       "    </tr>\n",
       "    <tr>\n",
       "      <th>8</th>\n",
       "      <td>15</td>\n",
       "      <td>1.81</td>\n",
       "      <td>9</td>\n",
       "      <td>-3.04</td>\n",
       "      <td>3</td>\n",
       "      <td>0.42</td>\n",
       "      <td>1</td>\n",
       "      <td>0.39</td>\n",
       "      <td>False</td>\n",
       "    </tr>\n",
       "    <tr>\n",
       "      <th>9</th>\n",
       "      <td>0</td>\n",
       "      <td>0.41</td>\n",
       "      <td>12</td>\n",
       "      <td>2.12</td>\n",
       "      <td>14</td>\n",
       "      <td>0.92</td>\n",
       "      <td>1</td>\n",
       "      <td>0.04</td>\n",
       "      <td>False</td>\n",
       "    </tr>\n",
       "  </tbody>\n",
       "</table>\n",
       "</div>"
      ],
      "text/plain": [
       "   F1    F2  F3    F4  F5    F6  F7    F8      C\n",
       "0   1  0.73  14  2.49   2  0.89   1  0.60   True\n",
       "1   3  0.65  15  1.51   9  0.91   1  0.68   True\n",
       "2 -10  0.21  39  1.67   5  0.10   1  0.58   True\n",
       "3 -12  1.45  20 -1.54   9  0.70   1  0.27   True\n",
       "4  13  0.03  41  2.21   9  0.39   1  1.03  False\n",
       "5 -16  0.64  10  0.61   7  0.91   1  0.39  False\n",
       "6   8  0.37  16  1.23  10  0.44   1  0.12   True\n",
       "7 -19  1.53  16 -1.61   2  0.09   1  0.40  False\n",
       "8  15  1.81   9 -3.04   3  0.42   1  0.39  False\n",
       "9   0  0.41  12  2.12  14  0.92   1  0.04  False"
      ]
     },
     "execution_count": 661,
     "metadata": {},
     "output_type": "execute_result"
    }
   ],
   "source": [
    "df_rf=pd.read_csv(\"CE802_ASS_2018_RESIT.csv\")\n",
    "df_rf.head(10)"
   ]
  },
  {
   "cell_type": "markdown",
   "id": "significant-marsh",
   "metadata": {},
   "source": [
    "### Separate the data into features and targets."
   ]
  },
  {
   "cell_type": "code",
   "execution_count": 662,
   "id": "excellent-subdivision",
   "metadata": {},
   "outputs": [],
   "source": [
    "X = dt.drop('C', axis=1)\n",
    "y = dt['C']"
   ]
  },
  {
   "cell_type": "markdown",
   "id": "presidential-mediterranean",
   "metadata": {},
   "source": [
    "### Normalize the data"
   ]
  },
  {
   "cell_type": "code",
   "execution_count": 663,
   "id": "unlimited-double",
   "metadata": {},
   "outputs": [
    {
     "data": {
      "text/plain": [
       "array([[ 0.06, -0.44, -0.8 , ...,  1.35,  0.16,  0.39],\n",
       "       [ 0.24, -0.58, -0.76, ...,  1.42,  0.16,  0.67],\n",
       "       [-0.9 , -1.37,  0.33, ..., -1.34,  0.16,  0.33],\n",
       "       ...,\n",
       "       [-0.9 ,  1.36, -1.26, ...,  0.74,  0.16,  0.43],\n",
       "       [-1.6 ,  0.63,  1.56, ..., -0.8 ,  0.16, -0.44],\n",
       "       [ 1.28, -1.14, -0.39, ...,  1.31,  0.16, -1.58]])"
      ]
     },
     "execution_count": 663,
     "metadata": {},
     "output_type": "execute_result"
    }
   ],
   "source": [
    "scale=StandardScaler()\n",
    "X= scale.fit_transform(X)\n",
    "X"
   ]
  },
  {
   "cell_type": "markdown",
   "id": "cultural-provision",
   "metadata": {},
   "source": [
    "### Over-sampling and under-sampling on unbalanced data"
   ]
  },
  {
   "cell_type": "code",
   "execution_count": 664,
   "id": "narrative-memphis",
   "metadata": {},
   "outputs": [
    {
     "name": "stdout",
     "output_type": "stream",
     "text": [
      "0.7.0\n",
      "Class=0, n=252 (34.054%)\n",
      "Class=1, n=488 (65.946%)\n"
     ]
    },
    {
     "data": {
      "image/png": "[encoded data removed]",
      "text/plain": [
       "<Figure size 432x288 with 1 Axes>"
      ]
     },
     "metadata": {
      "needs_background": "light"
     },
     "output_type": "display_data"
    }
   ],
   "source": [
    "print(imblearn.__version__)\n",
    "\n",
    "oversample = SMOTE()\n",
    "enn = EditedNearestNeighbours()\n",
    "# label encode the target variable\n",
    "\n",
    "y = LabelEncoder().fit_transform(y)\n",
    "\n",
    "X, y = enn.fit_resample(X, y)\n",
    "# summarize distribution\n",
    "counter = Counter(y)\n",
    "for k,v in counter.items():\n",
    "    per = v / len(y) * 100\n",
    "\n",
    "    print('Class=%d, n=%d (%.3f%%)' % (k, v, per))\n",
    "#plot the distribution\n",
    "plt.bar(counter.keys(), counter.values())\n",
    "plt.show()"
   ]
  },
  {
   "cell_type": "markdown",
   "id": "chinese-matter",
   "metadata": {},
   "source": [
    "### Train Test Split divides the dataset into 70 percent for training and 30 percent for testing."
   ]
  },
  {
   "cell_type": "code",
   "execution_count": 665,
   "id": "annual-beginning",
   "metadata": {},
   "outputs": [
    {
     "name": "stdout",
     "output_type": "stream",
     "text": [
      "Train set: (518, 8) (518,)\n",
      "Test set: (222, 8) (222,)\n"
     ]
    }
   ],
   "source": [
    "x_train, x_test, y_train, y_test = train_test_split( X, y, test_size=0.3, random_state=50)\n",
    "print ('Train set:', x_train.shape,  y_train.shape)\n",
    "print ('Test set:', x_test.shape,  y_test.shape)"
   ]
  },
  {
   "cell_type": "markdown",
   "id": "framed-heather",
   "metadata": {},
   "source": [
    "### To build the model, I use the Random Forest classifier."
   ]
  },
  {
   "cell_type": "code",
   "execution_count": 666,
   "id": "sharing-encyclopedia",
   "metadata": {},
   "outputs": [
    {
     "data": {
      "text/plain": [
       "RandomForestClassifier()"
      ]
     },
     "execution_count": 666,
     "metadata": {},
     "output_type": "execute_result"
    }
   ],
   "source": [
    "rf=RandomForestClassifier()\n",
    "rf"
   ]
  },
  {
   "cell_type": "markdown",
   "id": "caring-appraisal",
   "metadata": {},
   "source": [
    "### Grid search cross validation hyperparameter tuning will be utilised to increase the performance accuracy of our model."
   ]
  },
  {
   "cell_type": "code",
   "execution_count": 667,
   "id": "vertical-intensity",
   "metadata": {},
   "outputs": [],
   "source": [
    "# Create the parameter grid based on the results of random search \n",
    "param_grid = {\n",
    "    'bootstrap': [True],\n",
    "    'max_depth': [80, 90, 100, 110],\n",
    "    'max_features': [2, 3],\n",
    "    'min_samples_leaf': [3, 4, 5],\n",
    "    'min_samples_split': [8, 10, 12],\n",
    "    'n_estimators': [100, 200, 300, 1000]\n",
    "}"
   ]
  },
  {
   "cell_type": "code",
   "execution_count": 668,
   "id": "equivalent-injection",
   "metadata": {},
   "outputs": [],
   "source": [
    "# Instantiate the grid search model\n",
    "grid_search = GridSearchCV(estimator = rf, param_grid = param_grid, \n",
    "                          cv = 10, n_jobs = -1, verbose = 2)"
   ]
  },
  {
   "cell_type": "code",
   "execution_count": 669,
   "id": "palestinian-pressure",
   "metadata": {},
   "outputs": [
    {
     "name": "stdout",
     "output_type": "stream",
     "text": [
      "Fitting 10 folds for each of 288 candidates, totalling 2880 fits\n"
     ]
    },
    {
     "data": {
      "text/plain": [
       "GridSearchCV(cv=10, estimator=RandomForestClassifier(), n_jobs=-1,\n",
       "             param_grid={'bootstrap': [True], 'max_depth': [80, 90, 100, 110],\n",
       "                         'max_features': [2, 3], 'min_samples_leaf': [3, 4, 5],\n",
       "                         'min_samples_split': [8, 10, 12],\n",
       "                         'n_estimators': [100, 200, 300, 1000]},\n",
       "             verbose=2)"
      ]
     },
     "execution_count": 669,
     "metadata": {},
     "output_type": "execute_result"
    }
   ],
   "source": [
    "grid_search.fit(x_train,y_train)"
   ]
  },
  {
   "cell_type": "markdown",
   "id": "bright-situation",
   "metadata": {},
   "source": [
    "### This will produce the best parameters, estimator, and score for our RF classifier."
   ]
  },
  {
   "cell_type": "code",
   "execution_count": 670,
   "id": "negative-insert",
   "metadata": {},
   "outputs": [
    {
     "name": "stdout",
     "output_type": "stream",
     "text": [
      "Best parameter: {'bootstrap': True, 'max_depth': 110, 'max_features': 3, 'min_samples_leaf': 3, 'min_samples_split': 8, 'n_estimators': 300}\n",
      "Best grid estimator: RandomForestClassifier(max_depth=110, max_features=3, min_samples_leaf=3,\n",
      "                       min_samples_split=8, n_estimators=300)\n",
      "Best score 0.8398190045248869\n"
     ]
    }
   ],
   "source": [
    "print('Best parameter:', grid_search.best_params_)\n",
    "print('Best grid estimator:', grid_search.best_estimator_)\n",
    "print('Best score', grid_search.best_score_)"
   ]
  },
  {
   "cell_type": "markdown",
   "id": "jewish-restriction",
   "metadata": {},
   "source": [
    "### I will now, apply the above-mentioned parameters for the RF classifier"
   ]
  },
  {
   "cell_type": "code",
   "execution_count": 671,
   "id": "recreational-carroll",
   "metadata": {},
   "outputs": [
    {
     "data": {
      "text/plain": [
       "RandomForestClassifier(max_depth=100, max_features=3, min_samples_leaf=3,\n",
       "                       min_samples_split=8, n_estimators=300)"
      ]
     },
     "execution_count": 671,
     "metadata": {},
     "output_type": "execute_result"
    }
   ],
   "source": [
    "rf=RandomForestClassifier(bootstrap=True, max_depth=100, max_features=3, \n",
    "                          min_samples_leaf=3, min_samples_split=8,\n",
    "                          n_estimators=300).fit(x_train,y_train)\n",
    "rf"
   ]
  },
  {
   "cell_type": "markdown",
   "id": "impressed-oracle",
   "metadata": {},
   "source": [
    "### I will apply the predict method to the test set."
   ]
  },
  {
   "cell_type": "code",
   "execution_count": 672,
   "id": "selected-plymouth",
   "metadata": {},
   "outputs": [],
   "source": [
    "y_pred = rf.predict(x_test)"
   ]
  },
  {
   "cell_type": "markdown",
   "id": "automated-helping",
   "metadata": {},
   "source": [
    "### I used cross validation to further analyze the model's performance on its test set."
   ]
  },
  {
   "cell_type": "code",
   "execution_count": 673,
   "id": "structural-assault",
   "metadata": {},
   "outputs": [
    {
     "name": "stdout",
     "output_type": "stream",
     "text": [
      "              precision    recall  f1-score   support\n",
      "\n",
      "           0       0.83      0.61      0.70        66\n",
      "           1       0.85      0.95      0.90       156\n",
      "\n",
      "    accuracy                           0.85       222\n",
      "   macro avg       0.84      0.78      0.80       222\n",
      "weighted avg       0.85      0.85      0.84       222\n",
      "\n",
      "Accuracy of Random Forest classifier on the training set: 0.98\n",
      "Accuracy of Random Forest classifier on the test set: 0.85\n",
      "Cross-validation score:  [0.79 0.84 0.85 0.81 0.83]\n",
      "Cross-validation mean score:  0.8223861090365945\n"
     ]
    }
   ],
   "source": [
    "print(classification_report(y_test, y_pred))\n",
    "\n",
    "print('Accuracy of Random Forest classifier on the training set: {:.2f}'.format(rf.score(x_train, y_train)))\n",
    "print('Accuracy of Random Forest classifier on the test set: {:.2f}'.format(rf.score(x_test, y_test)))\n",
    "\n",
    "#Decision Trees are very prone to overfitting as shown in the scores\n",
    "\n",
    "score = cross_val_score(rf, x_train, y_train, cv=5) \n",
    "print('Cross-validation score: ',score)\n",
    "print('Cross-validation mean score: ',score.mean())"
   ]
  },
  {
   "cell_type": "markdown",
   "id": "chubby-investigation",
   "metadata": {},
   "source": [
    "### Summarize the model's performance using different classification metrics."
   ]
  },
  {
   "cell_type": "code",
   "execution_count": 674,
   "id": "emotional-feelings",
   "metadata": {},
   "outputs": [
    {
     "name": "stdout",
     "output_type": "stream",
     "text": [
      "Length of testing data:  222\n",
      "accuracy_count :  188\n",
      "accuracy_score :  0.8468468468468469\n",
      "f1_score :  0.8389327126169233\n",
      "precision_score :  0.8454488971730351\n",
      "recall_score :  0.8468468468468469\n",
      "jaccard_score :  0.7321298132108943\n"
     ]
    }
   ],
   "source": [
    "def summarize_classification(y_test,y_pred,avg_method='weighted'):\n",
    "    acc = accuracy_score(y_test, y_pred,normalize=True)\n",
    "    num_acc = accuracy_score(y_test, y_pred,normalize=False)\n",
    "    f1= f1_score(y_test, y_pred, average=avg_method)\n",
    "    prec = precision_score(y_test, y_pred, average=avg_method)\n",
    "    recall = recall_score(y_test, y_pred, average=avg_method)\n",
    "    jaccard = jaccard_score(y_test, y_pred, average=avg_method)\n",
    "    \n",
    "    print(\"Length of testing data: \", len(y_test))\n",
    "    print(\"accuracy_count : \" , num_acc)\n",
    "    print(\"accuracy_score : \" , acc)\n",
    "    print(\"f1_score : \" , f1)\n",
    "    print(\"precision_score : \" , prec)\n",
    "    print(\"recall_score : \", recall)\n",
    "    print(\"jaccard_score : \", jaccard)\n",
    "    \n",
    "summarize_classification(y_test, y_pred)"
   ]
  },
  {
   "cell_type": "markdown",
   "id": "exact-field",
   "metadata": {},
   "source": [
    "### In y_pred, save the model's anticipated result."
   ]
  },
  {
   "cell_type": "code",
   "execution_count": 675,
   "id": "duplicate-remedy",
   "metadata": {},
   "outputs": [
    {
     "data": {
      "text/html": [
       "<div>\n",
       "<style scoped>\n",
       "    .dataframe tbody tr th:only-of-type {\n",
       "        vertical-align: middle;\n",
       "    }\n",
       "\n",
       "    .dataframe tbody tr th {\n",
       "        vertical-align: top;\n",
       "    }\n",
       "\n",
       "    .dataframe thead th {\n",
       "        text-align: right;\n",
       "    }\n",
       "</style>\n",
       "<table border=\"1\" class=\"dataframe\">\n",
       "  <thead>\n",
       "    <tr style=\"text-align: right;\">\n",
       "      <th></th>\n",
       "      <th>y_test</th>\n",
       "      <th>y_pred</th>\n",
       "    </tr>\n",
       "  </thead>\n",
       "  <tbody>\n",
       "    <tr>\n",
       "      <th>175</th>\n",
       "      <td>0</td>\n",
       "      <td>1</td>\n",
       "    </tr>\n",
       "    <tr>\n",
       "      <th>83</th>\n",
       "      <td>1</td>\n",
       "      <td>1</td>\n",
       "    </tr>\n",
       "    <tr>\n",
       "      <th>146</th>\n",
       "      <td>0</td>\n",
       "      <td>0</td>\n",
       "    </tr>\n",
       "    <tr>\n",
       "      <th>149</th>\n",
       "      <td>1</td>\n",
       "      <td>1</td>\n",
       "    </tr>\n",
       "    <tr>\n",
       "      <th>101</th>\n",
       "      <td>1</td>\n",
       "      <td>1</td>\n",
       "    </tr>\n",
       "    <tr>\n",
       "      <th>34</th>\n",
       "      <td>0</td>\n",
       "      <td>1</td>\n",
       "    </tr>\n",
       "    <tr>\n",
       "      <th>213</th>\n",
       "      <td>1</td>\n",
       "      <td>1</td>\n",
       "    </tr>\n",
       "    <tr>\n",
       "      <th>25</th>\n",
       "      <td>1</td>\n",
       "      <td>1</td>\n",
       "    </tr>\n",
       "    <tr>\n",
       "      <th>200</th>\n",
       "      <td>1</td>\n",
       "      <td>1</td>\n",
       "    </tr>\n",
       "    <tr>\n",
       "      <th>79</th>\n",
       "      <td>1</td>\n",
       "      <td>1</td>\n",
       "    </tr>\n",
       "  </tbody>\n",
       "</table>\n",
       "</div>"
      ],
      "text/plain": [
       "     y_test  y_pred\n",
       "175       0       1\n",
       "83        1       1\n",
       "146       0       0\n",
       "149       1       1\n",
       "101       1       1\n",
       "34        0       1\n",
       "213       1       1\n",
       "25        1       1\n",
       "200       1       1\n",
       "79        1       1"
      ]
     },
     "execution_count": 675,
     "metadata": {},
     "output_type": "execute_result"
    }
   ],
   "source": [
    "#Accuracy\n",
    "pred_results = pd.DataFrame({'y_test': pd.Series(y_test),\n",
    "                             'y_pred': pd.Series(y_pred)})\n",
    "\n",
    "pred_results.sample(10)"
   ]
  },
  {
   "cell_type": "markdown",
   "id": "descending-geometry",
   "metadata": {},
   "source": [
    "### To further evaluate our performance findings, let's build a confusion matrix that describes the false positive, true negative, true positive, and false negative."
   ]
  },
  {
   "cell_type": "code",
   "execution_count": 676,
   "id": "robust-break",
   "metadata": {},
   "outputs": [
    {
     "name": "stdout",
     "output_type": "stream",
     "text": [
      "[[148   8]\n",
      " [ 26  40]]\n"
     ]
    }
   ],
   "source": [
    "def ConfusionMatrix(cm, classes,\n",
    "                          normalize=False,\n",
    "                          title='Confusion matrix',\n",
    "                          cmap=plt.cm.Blues):\n",
    "    if normalize:\n",
    "        cm = cm.astype('float') / cm.sum(axis=1)[:, np.newaxis]\n",
    "        print(\"Normalized confusion matrix\")\n",
    "    else:\n",
    "        print('Confusion matrix, without normalization')\n",
    "\n",
    "    print(cm)\n",
    "\n",
    "    plt.imshow(cm, interpolation='nearest', cmap=cmap)\n",
    "    plt.title(title)\n",
    "    plt.colorbar()\n",
    "    tick_marks = np.arange(len(classes))\n",
    "    plt.xticks(tick_marks, classes, rotation=45)\n",
    "    plt.yticks(tick_marks, classes)\n",
    "\n",
    "    fmt = '.2f' if normalize else 'd'\n",
    "    thresh = cm.max() / 2.\n",
    "    for i, j in itertools.product(range(cm.shape[0]), range(cm.shape[1])):\n",
    "        plt.text(j, i, format(cm[i, j], fmt),\n",
    "                 horizontalalignment=\"center\",\n",
    "                 color=\"white\" if cm[i, j] > thresh else \"black\")\n",
    "\n",
    "    plt.tight_layout()\n",
    "    plt.ylabel('True label')\n",
    "    plt.xlabel('Predicted label')\n",
    "print(confusion_matrix(y_test, y_pred, labels=[1,0]))"
   ]
  },
  {
   "cell_type": "code",
   "execution_count": 677,
   "id": "useful-berkeley",
   "metadata": {},
   "outputs": [
    {
     "name": "stdout",
     "output_type": "stream",
     "text": [
      "              precision    recall  f1-score   support\n",
      "\n",
      "           0       0.83      0.61      0.70        66\n",
      "           1       0.85      0.95      0.90       156\n",
      "\n",
      "    accuracy                           0.85       222\n",
      "   macro avg       0.84      0.78      0.80       222\n",
      "weighted avg       0.85      0.85      0.84       222\n",
      "\n",
      "Confusion matrix, without normalization\n",
      "[[148   8]\n",
      " [ 26  40]]\n"
     ]
    },
    {
     "data": {
      "image/png": "[encoded data removed]",
      "text/plain": [
       "<Figure size 432x288 with 2 Axes>"
      ]
     },
     "metadata": {
      "needs_background": "light"
     },
     "output_type": "display_data"
    }
   ],
   "source": [
    "cnf_matrix = confusion_matrix(y_test, y_pred, labels=[1,0])\n",
    "np.set_printoptions(precision=2)\n",
    "\n",
    "print (classification_report(y_test, y_pred))\n",
    "\n",
    "# Plot non-normalized confusion matrix\n",
    "plt.figure()\n",
    "plot_confusion_matrix(cnf_matrix, classes=['TRUE(1)','FALSE(0)'],normalize= False,  title='Confusion matrix')"
   ]
  },
  {
   "cell_type": "markdown",
   "id": "cheap-necklace",
   "metadata": {},
   "source": [
    "# Naive Bayes Classifier"
   ]
  },
  {
   "cell_type": "markdown",
   "id": "massive-demonstration",
   "metadata": {},
   "source": [
    "### Load the historical dataset of the online computer store."
   ]
  },
  {
   "cell_type": "code",
   "execution_count": 678,
   "id": "prospective-wholesale",
   "metadata": {},
   "outputs": [
    {
     "data": {
      "text/html": [
       "<div>\n",
       "<style scoped>\n",
       "    .dataframe tbody tr th:only-of-type {\n",
       "        vertical-align: middle;\n",
       "    }\n",
       "\n",
       "    .dataframe tbody tr th {\n",
       "        vertical-align: top;\n",
       "    }\n",
       "\n",
       "    .dataframe thead th {\n",
       "        text-align: right;\n",
       "    }\n",
       "</style>\n",
       "<table border=\"1\" class=\"dataframe\">\n",
       "  <thead>\n",
       "    <tr style=\"text-align: right;\">\n",
       "      <th></th>\n",
       "      <th>F1</th>\n",
       "      <th>F2</th>\n",
       "      <th>F3</th>\n",
       "      <th>F4</th>\n",
       "      <th>F5</th>\n",
       "      <th>F6</th>\n",
       "      <th>F7</th>\n",
       "      <th>F8</th>\n",
       "      <th>C</th>\n",
       "    </tr>\n",
       "  </thead>\n",
       "  <tbody>\n",
       "    <tr>\n",
       "      <th>0</th>\n",
       "      <td>1</td>\n",
       "      <td>0.73</td>\n",
       "      <td>14</td>\n",
       "      <td>2.49</td>\n",
       "      <td>2</td>\n",
       "      <td>0.89</td>\n",
       "      <td>1</td>\n",
       "      <td>0.60</td>\n",
       "      <td>True</td>\n",
       "    </tr>\n",
       "    <tr>\n",
       "      <th>1</th>\n",
       "      <td>3</td>\n",
       "      <td>0.65</td>\n",
       "      <td>15</td>\n",
       "      <td>1.51</td>\n",
       "      <td>9</td>\n",
       "      <td>0.91</td>\n",
       "      <td>1</td>\n",
       "      <td>0.68</td>\n",
       "      <td>True</td>\n",
       "    </tr>\n",
       "    <tr>\n",
       "      <th>2</th>\n",
       "      <td>-10</td>\n",
       "      <td>0.21</td>\n",
       "      <td>39</td>\n",
       "      <td>1.67</td>\n",
       "      <td>5</td>\n",
       "      <td>0.10</td>\n",
       "      <td>1</td>\n",
       "      <td>0.58</td>\n",
       "      <td>True</td>\n",
       "    </tr>\n",
       "    <tr>\n",
       "      <th>3</th>\n",
       "      <td>-12</td>\n",
       "      <td>1.45</td>\n",
       "      <td>20</td>\n",
       "      <td>-1.54</td>\n",
       "      <td>9</td>\n",
       "      <td>0.70</td>\n",
       "      <td>1</td>\n",
       "      <td>0.27</td>\n",
       "      <td>True</td>\n",
       "    </tr>\n",
       "    <tr>\n",
       "      <th>4</th>\n",
       "      <td>13</td>\n",
       "      <td>0.03</td>\n",
       "      <td>41</td>\n",
       "      <td>2.21</td>\n",
       "      <td>9</td>\n",
       "      <td>0.39</td>\n",
       "      <td>1</td>\n",
       "      <td>1.03</td>\n",
       "      <td>False</td>\n",
       "    </tr>\n",
       "    <tr>\n",
       "      <th>5</th>\n",
       "      <td>-16</td>\n",
       "      <td>0.64</td>\n",
       "      <td>10</td>\n",
       "      <td>0.61</td>\n",
       "      <td>7</td>\n",
       "      <td>0.91</td>\n",
       "      <td>1</td>\n",
       "      <td>0.39</td>\n",
       "      <td>False</td>\n",
       "    </tr>\n",
       "    <tr>\n",
       "      <th>6</th>\n",
       "      <td>8</td>\n",
       "      <td>0.37</td>\n",
       "      <td>16</td>\n",
       "      <td>1.23</td>\n",
       "      <td>10</td>\n",
       "      <td>0.44</td>\n",
       "      <td>1</td>\n",
       "      <td>0.12</td>\n",
       "      <td>True</td>\n",
       "    </tr>\n",
       "    <tr>\n",
       "      <th>7</th>\n",
       "      <td>-19</td>\n",
       "      <td>1.53</td>\n",
       "      <td>16</td>\n",
       "      <td>-1.61</td>\n",
       "      <td>2</td>\n",
       "      <td>0.09</td>\n",
       "      <td>1</td>\n",
       "      <td>0.40</td>\n",
       "      <td>False</td>\n",
       "    </tr>\n",
       "    <tr>\n",
       "      <th>8</th>\n",
       "      <td>15</td>\n",
       "      <td>1.81</td>\n",
       "      <td>9</td>\n",
       "      <td>-3.04</td>\n",
       "      <td>3</td>\n",
       "      <td>0.42</td>\n",
       "      <td>1</td>\n",
       "      <td>0.39</td>\n",
       "      <td>False</td>\n",
       "    </tr>\n",
       "    <tr>\n",
       "      <th>9</th>\n",
       "      <td>0</td>\n",
       "      <td>0.41</td>\n",
       "      <td>12</td>\n",
       "      <td>2.12</td>\n",
       "      <td>14</td>\n",
       "      <td>0.92</td>\n",
       "      <td>1</td>\n",
       "      <td>0.04</td>\n",
       "      <td>False</td>\n",
       "    </tr>\n",
       "  </tbody>\n",
       "</table>\n",
       "</div>"
      ],
      "text/plain": [
       "   F1    F2  F3    F4  F5    F6  F7    F8      C\n",
       "0   1  0.73  14  2.49   2  0.89   1  0.60   True\n",
       "1   3  0.65  15  1.51   9  0.91   1  0.68   True\n",
       "2 -10  0.21  39  1.67   5  0.10   1  0.58   True\n",
       "3 -12  1.45  20 -1.54   9  0.70   1  0.27   True\n",
       "4  13  0.03  41  2.21   9  0.39   1  1.03  False\n",
       "5 -16  0.64  10  0.61   7  0.91   1  0.39  False\n",
       "6   8  0.37  16  1.23  10  0.44   1  0.12   True\n",
       "7 -19  1.53  16 -1.61   2  0.09   1  0.40  False\n",
       "8  15  1.81   9 -3.04   3  0.42   1  0.39  False\n",
       "9   0  0.41  12  2.12  14  0.92   1  0.04  False"
      ]
     },
     "execution_count": 678,
     "metadata": {},
     "output_type": "execute_result"
    }
   ],
   "source": [
    "df_nb=pd.read_csv(\"CE802_ASS_2018_RESIT.csv\")\n",
    "df_nb.head(10)"
   ]
  },
  {
   "cell_type": "markdown",
   "id": "diverse-tenant",
   "metadata": {},
   "source": [
    "### Separate the data into features and targets."
   ]
  },
  {
   "cell_type": "code",
   "execution_count": 679,
   "id": "accredited-being",
   "metadata": {},
   "outputs": [],
   "source": [
    "X = dt.drop('C', axis=1)\n",
    "y = dt['C']"
   ]
  },
  {
   "cell_type": "markdown",
   "id": "serious-notice",
   "metadata": {},
   "source": [
    "### Standardize the data"
   ]
  },
  {
   "cell_type": "code",
   "execution_count": 680,
   "id": "statewide-commitment",
   "metadata": {},
   "outputs": [
    {
     "data": {
      "text/plain": [
       "array([[ 0.06, -0.44, -0.8 , ...,  1.35,  0.16,  0.39],\n",
       "       [ 0.24, -0.58, -0.76, ...,  1.42,  0.16,  0.67],\n",
       "       [-0.9 , -1.37,  0.33, ..., -1.34,  0.16,  0.33],\n",
       "       ...,\n",
       "       [-0.9 ,  1.36, -1.26, ...,  0.74,  0.16,  0.43],\n",
       "       [-1.6 ,  0.63,  1.56, ..., -0.8 ,  0.16, -0.44],\n",
       "       [ 1.28, -1.14, -0.39, ...,  1.31,  0.16, -1.58]])"
      ]
     },
     "execution_count": 680,
     "metadata": {},
     "output_type": "execute_result"
    }
   ],
   "source": [
    "scale=StandardScaler()\n",
    "X= scale.fit_transform(X)\n",
    "X"
   ]
  },
  {
   "cell_type": "markdown",
   "id": "ranking-spoke",
   "metadata": {},
   "source": [
    "### Over-sampling and under-sampling on unbalanced data"
   ]
  },
  {
   "cell_type": "code",
   "execution_count": 681,
   "id": "australian-shadow",
   "metadata": {},
   "outputs": [
    {
     "name": "stdout",
     "output_type": "stream",
     "text": [
      "0.7.0\n",
      "Class=0, n=252 (34.054%)\n",
      "Class=1, n=488 (65.946%)\n"
     ]
    },
    {
     "data": {
      "image/png": "[encoded data removed]",
      "text/plain": [
       "<Figure size 432x288 with 1 Axes>"
      ]
     },
     "metadata": {
      "needs_background": "light"
     },
     "output_type": "display_data"
    }
   ],
   "source": [
    "print(imblearn.__version__)\n",
    "\n",
    "oversample = SMOTE()\n",
    "enn = EditedNearestNeighbours()\n",
    "# label encode the target variable\n",
    "\n",
    "y = LabelEncoder().fit_transform(y)\n",
    "\n",
    "X, y = enn.fit_resample(X, y)\n",
    "# summarize distribution\n",
    "counter = Counter(y)\n",
    "for k,v in counter.items():\n",
    "    per = v / len(y) * 100\n",
    "\n",
    "    print('Class=%d, n=%d (%.3f%%)' % (k, v, per))\n",
    "#plot the distribution\n",
    "plt.bar(counter.keys(), counter.values())\n",
    "plt.show()"
   ]
  },
  {
   "cell_type": "markdown",
   "id": "martial-sharp",
   "metadata": {},
   "source": [
    "### Train Test Split divides the dataset into 80 percent for training and 20 percent for testing."
   ]
  },
  {
   "cell_type": "code",
   "execution_count": 682,
   "id": "higher-industry",
   "metadata": {},
   "outputs": [
    {
     "name": "stdout",
     "output_type": "stream",
     "text": [
      "Train set: (592, 8) (592,)\n",
      "Test set: (148, 8) (148,)\n"
     ]
    }
   ],
   "source": [
    "x_train, x_test, y_train, y_test = train_test_split( X, y, test_size=0.2, random_state=50)\n",
    "print ('Train set:', x_train.shape,  y_train.shape)\n",
    "print ('Test set:', x_test.shape,  y_test.shape)"
   ]
  },
  {
   "cell_type": "markdown",
   "id": "ecological-integral",
   "metadata": {},
   "source": [
    "\n",
    "### To build the model, I use the Naive Bayes classifier."
   ]
  },
  {
   "cell_type": "code",
   "execution_count": 683,
   "id": "common-affairs",
   "metadata": {},
   "outputs": [],
   "source": [
    "cv_method = RepeatedStratifiedKFold(n_splits=5,  n_repeats=3, random_state=999)"
   ]
  },
  {
   "cell_type": "code",
   "execution_count": 684,
   "id": "located-division",
   "metadata": {},
   "outputs": [],
   "source": [
    "nb=GaussianNB()"
   ]
  },
  {
   "cell_type": "markdown",
   "id": "mechanical-lodge",
   "metadata": {},
   "source": [
    "### Grid search cross validation hyperparameter tuning will be utilised to increase the performance accuracy of our model."
   ]
  },
  {
   "cell_type": "code",
   "execution_count": 685,
   "id": "standing-limitation",
   "metadata": {},
   "outputs": [],
   "source": [
    "param_grid_nb = {\n",
    "    'var_smoothing': np.logspace(0,-9, num=100)\n",
    "}"
   ]
  },
  {
   "cell_type": "code",
   "execution_count": 686,
   "id": "concerned-wireless",
   "metadata": {},
   "outputs": [
    {
     "name": "stdout",
     "output_type": "stream",
     "text": [
      "Fitting 15 folds for each of 100 candidates, totalling 1500 fits\n",
      "GaussianNB(var_smoothing=1.0)\n"
     ]
    }
   ],
   "source": [
    "nbModel_grid = GridSearchCV(estimator=nb, param_grid=param_grid_nb, verbose=1, cv=cv_method, n_jobs=-1)\n",
    "nbModel_grid.fit(x_train, y_train)\n",
    "print(nbModel_grid.best_estimator_)"
   ]
  },
  {
   "cell_type": "markdown",
   "id": "confirmed-burke",
   "metadata": {},
   "source": [
    "### This will produce the best parameters, estimator, and score for our NB classifier."
   ]
  },
  {
   "cell_type": "code",
   "execution_count": 687,
   "id": "trained-color",
   "metadata": {},
   "outputs": [
    {
     "name": "stdout",
     "output_type": "stream",
     "text": [
      "Best parameter: {'var_smoothing': 1.0}\n",
      "Best grid estimator: GaussianNB(var_smoothing=1.0)\n",
      "Best score 0.7021696814318948\n"
     ]
    }
   ],
   "source": [
    "print('Best parameter:', nbModel_grid.best_params_)\n",
    "print('Best grid estimator:', nbModel_grid.best_estimator_)\n",
    "print('Best score', nbModel_grid.best_score_)"
   ]
  },
  {
   "cell_type": "markdown",
   "id": "light-touch",
   "metadata": {},
   "source": [
    "### I will now, apply the above-mentioned parameters for the Naive Bayes classifier"
   ]
  },
  {
   "cell_type": "code",
   "execution_count": 688,
   "id": "adequate-melbourne",
   "metadata": {},
   "outputs": [
    {
     "data": {
      "text/plain": [
       "GaussianNB(var_smoothing=1.0)"
      ]
     },
     "execution_count": 688,
     "metadata": {},
     "output_type": "execute_result"
    }
   ],
   "source": [
    "nb=GaussianNB(var_smoothing=1.0).fit(x_train,y_train)\n",
    "nb"
   ]
  },
  {
   "cell_type": "markdown",
   "id": "reported-dryer",
   "metadata": {},
   "source": [
    "### I will apply the predict method to the test set."
   ]
  },
  {
   "cell_type": "code",
   "execution_count": 689,
   "id": "positive-manitoba",
   "metadata": {},
   "outputs": [],
   "source": [
    "y_pred = nb.predict(x_test)"
   ]
  },
  {
   "cell_type": "markdown",
   "id": "flexible-birthday",
   "metadata": {},
   "source": [
    "### I used cross validation to further analyze the model's performance on its test set."
   ]
  },
  {
   "cell_type": "code",
   "execution_count": 690,
   "id": "generic-flexibility",
   "metadata": {},
   "outputs": [
    {
     "name": "stdout",
     "output_type": "stream",
     "text": [
      "              precision    recall  f1-score   support\n",
      "\n",
      "           0       0.55      0.52      0.54        42\n",
      "           1       0.81      0.83      0.82       106\n",
      "\n",
      "    accuracy                           0.74       148\n",
      "   macro avg       0.68      0.68      0.68       148\n",
      "weighted avg       0.74      0.74      0.74       148\n",
      "\n",
      "Accuracy of Naive Bayes classifier on the training set: 0.71\n",
      "Accuracy of Naive Bayes classifier on the test set: 0.74\n",
      "Cross-validation score:  [0.67 0.73 0.69 0.66 0.69 0.64 0.75 0.81 0.69 0.75]\n",
      "Cross-validation mean score:  0.7094915254237288\n"
     ]
    }
   ],
   "source": [
    "print(classification_report(y_test, y_pred))\n",
    "\n",
    "print('Accuracy of Naive Bayes classifier on the training set: {:.2f}'.format(nb.score(x_train, y_train)))\n",
    "print('Accuracy of Naive Bayes classifier on the test set: {:.2f}'.format(nb.score(x_test, y_test)))\n",
    "\n",
    "#Decision Trees are very prone to overfitting as shown in the scores\n",
    "\n",
    "score = cross_val_score(nb, x_train, y_train, cv=10) \n",
    "print('Cross-validation score: ',score)\n",
    "print('Cross-validation mean score: ',score.mean())"
   ]
  },
  {
   "cell_type": "markdown",
   "id": "chinese-somewhere",
   "metadata": {},
   "source": [
    "### Summarize the model's performance using different classification metrics."
   ]
  },
  {
   "cell_type": "code",
   "execution_count": 691,
   "id": "organic-grain",
   "metadata": {},
   "outputs": [
    {
     "name": "stdout",
     "output_type": "stream",
     "text": [
      "Length of testing data:  148\n",
      "accuracy_count :  110\n",
      "accuracy_score :  0.7432432432432432\n",
      "f1_score :  0.741311861211565\n",
      "precision_score :  0.7396646646646647\n",
      "recall_score :  0.7432432432432432\n",
      "jaccard_score :  0.6042685542685543\n"
     ]
    }
   ],
   "source": [
    "def summarize_classification(y_test,y_pred,avg_method='weighted'):\n",
    "    acc = accuracy_score(y_test, y_pred,normalize=True)\n",
    "    num_acc = accuracy_score(y_test, y_pred,normalize=False)\n",
    "    f1= f1_score(y_test, y_pred, average=avg_method)\n",
    "    prec = precision_score(y_test, y_pred, average=avg_method)\n",
    "    recall = recall_score(y_test, y_pred, average=avg_method)\n",
    "    jaccard = jaccard_score(y_test, y_pred, average=avg_method)\n",
    "    \n",
    "    print(\"Length of testing data: \", len(y_test))\n",
    "    print(\"accuracy_count : \" , num_acc)\n",
    "    print(\"accuracy_score : \" , acc)\n",
    "    print(\"f1_score : \" , f1)\n",
    "    print(\"precision_score : \" , prec)\n",
    "    print(\"recall_score : \", recall)\n",
    "    print(\"jaccard_score : \", jaccard)\n",
    "    \n",
    "summarize_classification(y_test, y_pred)"
   ]
  },
  {
   "cell_type": "markdown",
   "id": "desperate-patch",
   "metadata": {},
   "source": [
    "### In y_pred, save the model's anticipated result."
   ]
  },
  {
   "cell_type": "code",
   "execution_count": 692,
   "id": "saved-scene",
   "metadata": {},
   "outputs": [
    {
     "data": {
      "text/html": [
       "<div>\n",
       "<style scoped>\n",
       "    .dataframe tbody tr th:only-of-type {\n",
       "        vertical-align: middle;\n",
       "    }\n",
       "\n",
       "    .dataframe tbody tr th {\n",
       "        vertical-align: top;\n",
       "    }\n",
       "\n",
       "    .dataframe thead th {\n",
       "        text-align: right;\n",
       "    }\n",
       "</style>\n",
       "<table border=\"1\" class=\"dataframe\">\n",
       "  <thead>\n",
       "    <tr style=\"text-align: right;\">\n",
       "      <th></th>\n",
       "      <th>y_test</th>\n",
       "      <th>y_pred</th>\n",
       "    </tr>\n",
       "  </thead>\n",
       "  <tbody>\n",
       "    <tr>\n",
       "      <th>50</th>\n",
       "      <td>0</td>\n",
       "      <td>1</td>\n",
       "    </tr>\n",
       "    <tr>\n",
       "      <th>32</th>\n",
       "      <td>0</td>\n",
       "      <td>0</td>\n",
       "    </tr>\n",
       "    <tr>\n",
       "      <th>9</th>\n",
       "      <td>1</td>\n",
       "      <td>1</td>\n",
       "    </tr>\n",
       "    <tr>\n",
       "      <th>8</th>\n",
       "      <td>1</td>\n",
       "      <td>1</td>\n",
       "    </tr>\n",
       "    <tr>\n",
       "      <th>29</th>\n",
       "      <td>1</td>\n",
       "      <td>1</td>\n",
       "    </tr>\n",
       "    <tr>\n",
       "      <th>28</th>\n",
       "      <td>1</td>\n",
       "      <td>1</td>\n",
       "    </tr>\n",
       "    <tr>\n",
       "      <th>94</th>\n",
       "      <td>1</td>\n",
       "      <td>0</td>\n",
       "    </tr>\n",
       "    <tr>\n",
       "      <th>52</th>\n",
       "      <td>1</td>\n",
       "      <td>1</td>\n",
       "    </tr>\n",
       "    <tr>\n",
       "      <th>36</th>\n",
       "      <td>1</td>\n",
       "      <td>1</td>\n",
       "    </tr>\n",
       "    <tr>\n",
       "      <th>126</th>\n",
       "      <td>1</td>\n",
       "      <td>1</td>\n",
       "    </tr>\n",
       "  </tbody>\n",
       "</table>\n",
       "</div>"
      ],
      "text/plain": [
       "     y_test  y_pred\n",
       "50        0       1\n",
       "32        0       0\n",
       "9         1       1\n",
       "8         1       1\n",
       "29        1       1\n",
       "28        1       1\n",
       "94        1       0\n",
       "52        1       1\n",
       "36        1       1\n",
       "126       1       1"
      ]
     },
     "execution_count": 692,
     "metadata": {},
     "output_type": "execute_result"
    }
   ],
   "source": [
    "#Accuracy\n",
    "pred_results = pd.DataFrame({'y_test': pd.Series(y_test),\n",
    "                             'y_pred': pd.Series(y_pred)})\n",
    "\n",
    "pred_results.sample(10)"
   ]
  },
  {
   "cell_type": "markdown",
   "id": "korean-examination",
   "metadata": {},
   "source": [
    "### To further evaluate our performance findings, let's build a confusion matrix that describes the false positive, true negative, true positive, and false negative."
   ]
  },
  {
   "cell_type": "code",
   "execution_count": 693,
   "id": "attached-muscle",
   "metadata": {},
   "outputs": [
    {
     "name": "stdout",
     "output_type": "stream",
     "text": [
      "[[88 18]\n",
      " [20 22]]\n"
     ]
    }
   ],
   "source": [
    "def ConfusionMatrix(cm, classes,\n",
    "                          normalize=False,\n",
    "                          title='Confusion matrix',\n",
    "                          cmap=plt.cm.Blues):\n",
    "    if normalize:\n",
    "        cm = cm.astype('float') / cm.sum(axis=1)[:, np.newaxis]\n",
    "        print(\"Normalized confusion matrix\")\n",
    "    else:\n",
    "        print('Confusion matrix, without normalization')\n",
    "\n",
    "    print(cm)\n",
    "\n",
    "    plt.imshow(cm, interpolation='nearest', cmap=cmap)\n",
    "    plt.title(title)\n",
    "    plt.colorbar()\n",
    "    tick_marks = np.arange(len(classes))\n",
    "    plt.xticks(tick_marks, classes, rotation=45)\n",
    "    plt.yticks(tick_marks, classes)\n",
    "\n",
    "    fmt = '.2f' if normalize else 'd'\n",
    "    thresh = cm.max() / 2.\n",
    "    for i, j in itertools.product(range(cm.shape[0]), range(cm.shape[1])):\n",
    "        plt.text(j, i, format(cm[i, j], fmt),\n",
    "                 horizontalalignment=\"center\",\n",
    "                 color=\"white\" if cm[i, j] > thresh else \"black\")\n",
    "\n",
    "    plt.tight_layout()\n",
    "    plt.ylabel('True label')\n",
    "    plt.xlabel('Predicted label')\n",
    "print(confusion_matrix(y_test, y_pred, labels=[1,0]))"
   ]
  },
  {
   "cell_type": "code",
   "execution_count": 694,
   "id": "tribal-israeli",
   "metadata": {},
   "outputs": [
    {
     "name": "stdout",
     "output_type": "stream",
     "text": [
      "              precision    recall  f1-score   support\n",
      "\n",
      "           0       0.55      0.52      0.54        42\n",
      "           1       0.81      0.83      0.82       106\n",
      "\n",
      "    accuracy                           0.74       148\n",
      "   macro avg       0.68      0.68      0.68       148\n",
      "weighted avg       0.74      0.74      0.74       148\n",
      "\n",
      "Confusion matrix, without normalization\n",
      "[[88 18]\n",
      " [20 22]]\n"
     ]
    },
    {
     "data": {
      "image/png": "[encoded data removed]",
      "text/plain": [
       "<Figure size 432x288 with 2 Axes>"
      ]
     },
     "metadata": {
      "needs_background": "light"
     },
     "output_type": "display_data"
    }
   ],
   "source": [
    "cnf_matrix = confusion_matrix(y_test, y_pred, labels=[1,0])\n",
    "np.set_printoptions(precision=2)\n",
    "\n",
    "print (classification_report(y_test, y_pred))\n",
    "\n",
    "# Plot non-normalized confusion matrix\n",
    "plt.figure()\n",
    "plot_confusion_matrix(cnf_matrix, classes=['TRUE(1)','FALSE(0)'],normalize= False,  title='Confusion matrix')"
   ]
  },
  {
   "cell_type": "code",
   "execution_count": 695,
   "id": "patient-reach",
   "metadata": {},
   "outputs": [
    {
     "data": {
      "text/html": [
       "<div>\n",
       "<style scoped>\n",
       "    .dataframe tbody tr th:only-of-type {\n",
       "        vertical-align: middle;\n",
       "    }\n",
       "\n",
       "    .dataframe tbody tr th {\n",
       "        vertical-align: top;\n",
       "    }\n",
       "\n",
       "    .dataframe thead th {\n",
       "        text-align: right;\n",
       "    }\n",
       "</style>\n",
       "<table border=\"1\" class=\"dataframe\">\n",
       "  <thead>\n",
       "    <tr style=\"text-align: right;\">\n",
       "      <th></th>\n",
       "      <th>Accuracy Score</th>\n",
       "      <th>F1 Score</th>\n",
       "      <th>Precision Score</th>\n",
       "      <th>Recall Score</th>\n",
       "      <th>Jaccard Score</th>\n",
       "    </tr>\n",
       "  </thead>\n",
       "  <tbody>\n",
       "    <tr>\n",
       "      <th>Decision Tree</th>\n",
       "      <td>0.79</td>\n",
       "      <td>0.80</td>\n",
       "      <td>0.81</td>\n",
       "      <td>0.79</td>\n",
       "      <td>0.67</td>\n",
       "    </tr>\n",
       "    <tr>\n",
       "      <th>Support Vector Machine</th>\n",
       "      <td>0.92</td>\n",
       "      <td>0.92</td>\n",
       "      <td>0.92</td>\n",
       "      <td>0.92</td>\n",
       "      <td>0.85</td>\n",
       "    </tr>\n",
       "    <tr>\n",
       "      <th>Random Forest</th>\n",
       "      <td>0.84</td>\n",
       "      <td>0.83</td>\n",
       "      <td>0.84</td>\n",
       "      <td>0.84</td>\n",
       "      <td>0.73</td>\n",
       "    </tr>\n",
       "    <tr>\n",
       "      <th>Naive Bayes</th>\n",
       "      <td>0.74</td>\n",
       "      <td>0.74</td>\n",
       "      <td>0.73</td>\n",
       "      <td>0.74</td>\n",
       "      <td>0.60</td>\n",
       "    </tr>\n",
       "  </tbody>\n",
       "</table>\n",
       "</div>"
      ],
      "text/plain": [
       "                        Accuracy Score  F1 Score  Precision Score  \\\n",
       "Decision Tree                     0.79      0.80             0.81   \n",
       "Support Vector Machine            0.92      0.92             0.92   \n",
       "Random Forest                     0.84      0.83             0.84   \n",
       "Naive Bayes                       0.74      0.74             0.73   \n",
       "\n",
       "                        Recall Score  Jaccard Score  \n",
       "Decision Tree                   0.79           0.67  \n",
       "Support Vector Machine          0.92           0.85  \n",
       "Random Forest                   0.84           0.73  \n",
       "Naive Bayes                     0.74           0.60  "
      ]
     },
     "execution_count": 695,
     "metadata": {},
     "output_type": "execute_result"
    }
   ],
   "source": [
    "result=[{ 'Accuracy Score':0.79,\n",
    "         'F1 Score': 0.80,\n",
    "         'Precision Score': 0.81,\n",
    "         'Recall Score': 0.79,\n",
    "         'Jaccard Score': 0.67},\n",
    "        {'Accuracy Score':0.92,\n",
    "         'F1 Score': 0.92,\n",
    "         'Precision Score': 0.92,\n",
    "         'Recall Score': 0.92,\n",
    "         'Jaccard Score': 0.85},\n",
    "        {'Accuracy Score': 0.84,\n",
    "         'F1 Score': 0.83,\n",
    "         'Precision Score': 0.84,\n",
    "         'Recall Score': 0.84,\n",
    "         'Jaccard Score': 0.73},\n",
    "        {'Accuracy Score': 0.74,\n",
    "         'F1 Score': 0.74,\n",
    "         'Precision Score': 0.73,\n",
    "         'Recall Score': 0.74,\n",
    "         'Jaccard Score': 0.60}]\n",
    "df=pd.DataFrame(result, index=['Decision Tree', 'Support Vector Machine','Random Forest', 'Naive Bayes'])\n",
    "df.head()"
   ]
  },
  {
   "cell_type": "code",
   "execution_count": null,
   "id": "established-opposition",
   "metadata": {},
   "outputs": [],
   "source": []
  }
 ],
 "metadata": {
  "kernelspec": {
   "display_name": "Python 3",
   "language": "python",
   "name": "python3"
  },
  "language_info": {
   "codemirror_mode": {
    "name": "ipython",
    "version": 3
   },
   "file_extension": ".py",
   "mimetype": "text/x-python",
   "name": "python",
   "nbconvert_exporter": "python",
   "pygments_lexer": "ipython3",
   "version": "3.8.8"
  }
 },
 "nbformat": 4,
 "nbformat_minor": 5
}
